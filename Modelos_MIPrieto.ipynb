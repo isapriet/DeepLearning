{
  "nbformat": 4,
  "nbformat_minor": 0,
  "metadata": {
    "colab": {
      "provenance": []
    },
    "kernelspec": {
      "name": "python3",
      "display_name": "Python 3"
    },
    "language_info": {
      "name": "python"
    }
  },
  "cells": [
    {
      "cell_type": "markdown",
      "source": [
        "## MODELOS"
      ],
      "metadata": {
        "id": "lcduq9ONRBnB"
      }
    },
    {
      "cell_type": "markdown",
      "source": [
        "# Carga de Dataframes"
      ],
      "metadata": {
        "id": "Po5ID5zYRI5f"
      }
    },
    {
      "cell_type": "code",
      "source": [
        "import cv2\n",
        "import numpy\n",
        "import pandas\n",
        "import imageio.v3 as io\n",
        "import seaborn as sns\n",
        "import matplotlib.pyplot as plt\n",
        "from pandas.plotting import scatter_matrix\n",
        "from tqdm import tqdm\n",
        "from typing import Optional, Union"
      ],
      "metadata": {
        "id": "HqTpApDYRLNX"
      },
      "execution_count": 9,
      "outputs": []
    },
    {
      "cell_type": "code",
      "source": [
        "from google.colab import drive\n",
        "drive.mount('/content/drive')"
      ],
      "metadata": {
        "colab": {
          "base_uri": "https://localhost:8080/"
        },
        "id": "4VP7RdX1RSe_",
        "outputId": "f63d26eb-3af6-4119-e7f9-774b7662f339"
      },
      "execution_count": 2,
      "outputs": [
        {
          "output_type": "stream",
          "name": "stdout",
          "text": [
            "Mounted at /content/drive\n"
          ]
        }
      ]
    },
    {
      "cell_type": "markdown",
      "source": [
        "Datos tabulares train, test, validation."
      ],
      "metadata": {
        "id": "xnINC2IJRaXe"
      }
    },
    {
      "cell_type": "code",
      "source": [
        "x_train_data = pandas.read_csv(\"/content/drive/MyDrive/x_train_data.csv\", sep=';')\n",
        "x_test_data = pandas.read_csv(\"/content/drive/MyDrive/x_test_data.csv\", sep=';')\n",
        "x_validation_data = pandas.read_csv(\"/content/drive/MyDrive/x_validation_data.csv\", sep=';')\n",
        "\n",
        "x_train_data.shape, x_test_data.shape, x_validation_data.shape"
      ],
      "metadata": {
        "colab": {
          "base_uri": "https://localhost:8080/"
        },
        "id": "_dlWO3D4RTEN",
        "outputId": "989370b5-2c34-41c9-8a72-e2d07505685a"
      },
      "execution_count": 3,
      "outputs": [
        {
          "output_type": "execute_result",
          "data": {
            "text/plain": [
              "((2317, 21), (1531, 21), (775, 21))"
            ]
          },
          "metadata": {},
          "execution_count": 3
        }
      ]
    },
    {
      "cell_type": "markdown",
      "source": [
        "Datos tabulares variable objetivo 'Price' para regresión."
      ],
      "metadata": {
        "id": "Fjz5Ia4bRkIw"
      }
    },
    {
      "cell_type": "code",
      "source": [
        "y_reg_train = pandas.read_csv(\"/content/drive/MyDrive/y_reg_train.csv\", sep=';')\n",
        "y_reg_test = pandas.read_csv(\"/content/drive/MyDrive/y_reg_test.csv\", sep=';')\n",
        "y_reg_validation = pandas.read_csv(\"/content/drive/MyDrive/y_reg_validation.csv\", sep=';')\n",
        "\n",
        "y_reg_train.shape, y_reg_test.shape, y_reg_validation.shape"
      ],
      "metadata": {
        "colab": {
          "base_uri": "https://localhost:8080/"
        },
        "id": "ZYGjuk-WRlBA",
        "outputId": "0c47faee-7f39-4766-fb18-77135c4f1556"
      },
      "execution_count": 4,
      "outputs": [
        {
          "output_type": "execute_result",
          "data": {
            "text/plain": [
              "((2317, 1), (1531, 1), (775, 1))"
            ]
          },
          "metadata": {},
          "execution_count": 4
        }
      ]
    },
    {
      "cell_type": "markdown",
      "source": [
        "Datos tabulares variable objetivo 'Price' para clasificación."
      ],
      "metadata": {
        "id": "ShkrvHdORpww"
      }
    },
    {
      "cell_type": "code",
      "source": [
        "y_class_train = pandas.read_csv(\"/content/drive/MyDrive/y_class_train.csv\", sep=';')\n",
        "y_class_test = pandas.read_csv(\"/content/drive/MyDrive/y_class_test.csv\", sep=';')\n",
        "y_class_validation = pandas.read_csv(\"/content/drive/MyDrive/y_class_validation.csv\", sep=';')\n",
        "\n",
        "y_class_train.shape, y_class_test.shape, y_class_validation.shape"
      ],
      "metadata": {
        "colab": {
          "base_uri": "https://localhost:8080/"
        },
        "id": "flpIHVqPRtDe",
        "outputId": "83927575-0352-4d47-eca9-276a6dd32e74"
      },
      "execution_count": 5,
      "outputs": [
        {
          "output_type": "execute_result",
          "data": {
            "text/plain": [
              "((2317, 3), (1531, 3), (775, 3))"
            ]
          },
          "metadata": {},
          "execution_count": 5
        }
      ]
    },
    {
      "cell_type": "markdown",
      "source": [
        "Imágenes train, test y validation."
      ],
      "metadata": {
        "id": "PY8XRhanRwWp"
      }
    },
    {
      "cell_type": "code",
      "source": [
        "images_train = numpy.load(\"/content/drive/MyDrive/images_train.npy\")\n",
        "images_test = numpy.load(\"/content/drive/MyDrive/images_test.npy\")\n",
        "images_validation = numpy.load(\"/content/drive/MyDrive/images_validation.npy\")\n",
        "\n",
        "images_train.shape, images_test.shape, images_validation.shape"
      ],
      "metadata": {
        "colab": {
          "base_uri": "https://localhost:8080/"
        },
        "id": "nUY3jsEgRzDI",
        "outputId": "b84d479a-67f2-4af4-e5d4-d46328ffdbd0"
      },
      "execution_count": 6,
      "outputs": [
        {
          "output_type": "execute_result",
          "data": {
            "text/plain": [
              "((2317, 224, 224, 3), (1531, 224, 224, 3), (775, 224, 224, 3))"
            ]
          },
          "metadata": {},
          "execution_count": 6
        }
      ]
    },
    {
      "cell_type": "markdown",
      "source": [
        " Se transforma los dataframes."
      ],
      "metadata": {
        "id": "cYxPjcGsR2FY"
      }
    },
    {
      "cell_type": "code",
      "source": [
        "x_train_data = x_train_data.values\n",
        "x_test_data = x_test_data.values\n",
        "x_validation_data = x_validation_data.values\n",
        "\n",
        "y_reg_train = y_reg_train.values\n",
        "y_reg_test = y_reg_test.values\n",
        "y_reg_validation = y_reg_validation.values\n",
        "\n",
        "y_reg_train = numpy.log10(y_reg_train)\n",
        "y_reg_test = numpy.log10(y_reg_test)\n",
        "y_reg_validation = numpy.log10(y_reg_validation)\n",
        "\n",
        "y_class_train = y_class_train.values\n",
        "y_class_test = y_class_test.values\n",
        "y_class_validation = y_class_validation.values"
      ],
      "metadata": {
        "id": "AUDAN0LpR5Ub"
      },
      "execution_count": 7,
      "outputs": []
    },
    {
      "cell_type": "markdown",
      "source": [
        "Se comprueba."
      ],
      "metadata": {
        "id": "Iw0dRJGwR_jA"
      }
    },
    {
      "cell_type": "code",
      "source": [
        "print(type(x_train_data))\n",
        "print(type(x_test_data))\n",
        "print(type(x_validation_data))\n",
        "\n",
        "print(type(y_reg_train))\n",
        "print(type(y_reg_test))\n",
        "print(type(y_reg_validation))\n",
        "\n",
        "print(type(y_class_train))\n",
        "print(type(y_class_test))\n",
        "print(type(y_class_validation))\n"
      ],
      "metadata": {
        "colab": {
          "base_uri": "https://localhost:8080/"
        },
        "id": "GYRWFVxdSBg3",
        "outputId": "50937613-472d-4453-838c-b87e36daa6b0"
      },
      "execution_count": 8,
      "outputs": [
        {
          "output_type": "stream",
          "name": "stdout",
          "text": [
            "<class 'numpy.ndarray'>\n",
            "<class 'numpy.ndarray'>\n",
            "<class 'numpy.ndarray'>\n",
            "<class 'numpy.ndarray'>\n",
            "<class 'numpy.ndarray'>\n",
            "<class 'numpy.ndarray'>\n",
            "<class 'numpy.ndarray'>\n",
            "<class 'numpy.ndarray'>\n",
            "<class 'numpy.ndarray'>\n"
          ]
        }
      ]
    },
    {
      "cell_type": "markdown",
      "source": [
        "## MODELO DE REGRSIÓN"
      ],
      "metadata": {
        "id": "5Jm5Uo3-3Eo_"
      }
    },
    {
      "cell_type": "markdown",
      "source": [
        "# Modelo de Regresión datos numéricos"
      ],
      "metadata": {
        "id": "A_88wQVsSEog"
      }
    },
    {
      "cell_type": "code",
      "source": [
        "from tensorflow.keras.models import Sequential, Model\n",
        "from tensorflow.keras.layers import Dense\n",
        "from tensorflow.keras.optimizers import Adam"
      ],
      "metadata": {
        "id": "Qwb-IslaSHVj"
      },
      "execution_count": 3,
      "outputs": []
    },
    {
      "cell_type": "markdown",
      "source": [
        "Se crea un modelo de red neuronal secuencial Dense. La primera capa contiene 16 neuronas y la función de activación es ReLu que se aplica a cada neurona. La capa recibe de entrada las variables de los datos de entrenamiento. En la segunda y tercera capa se utiliza la misma función de activación; no es necesario pasarle el tamaño de entrada ya que lo infiere directamente de la capa anterior. La última capa es una salida lineal para la predicción."
      ],
      "metadata": {
        "id": "5Fxw2JXYSKWn"
      }
    },
    {
      "cell_type": "code",
      "source": [
        "model = Sequential()\n",
        "model.add (Dense (16, input_shape=(x_train_data.shape[1],), activation='relu'))\n",
        "model.add(Dense(8, activation='relu'))\n",
        "model.add(Dense(4, activation='relu'))\n",
        "model.add(Dense(1, activation='linear'))"
      ],
      "metadata": {
        "id": "0hc_p0woSLFf"
      },
      "execution_count": 13,
      "outputs": []
    },
    {
      "cell_type": "markdown",
      "source": [
        "Se compila. La funcion de pérdida se establece en 'mean_squared_error', que calcula el error cuadrático medio entre las predicciones del modelo y los valores reales de los datos de train. Se elige 'Adam' como optimizador ya que adapta automáticamente la tasa de aprendizaje durante el entrenamiento para cada parámetro de la red neuronal."
      ],
      "metadata": {
        "id": "9giMR5THSQOo"
      }
    },
    {
      "cell_type": "code",
      "source": [
        "model.compile(loss='mean_squared_error', optimizer='adam')\n",
        "\n",
        "model.fit(x=x_train_data, y=y_reg_train,\n",
        "\t    validation_data=(x_validation_data, y_reg_validation),\n",
        "\t    epochs=50, batch_size=16)"
      ],
      "metadata": {
        "colab": {
          "base_uri": "https://localhost:8080/"
        },
        "id": "xtlb9tMPSTRx",
        "outputId": "04d45aa7-7a5b-4f34-a5ee-8fec698882dc"
      },
      "execution_count": 14,
      "outputs": [
        {
          "output_type": "stream",
          "name": "stdout",
          "text": [
            "Epoch 1/50\n",
            "145/145 [==============================] - 1s 4ms/step - loss: 7.4585 - val_loss: 6.3614\n",
            "Epoch 2/50\n",
            "145/145 [==============================] - 0s 2ms/step - loss: 1.2515 - val_loss: 1.0268\n",
            "Epoch 3/50\n",
            "145/145 [==============================] - 0s 2ms/step - loss: 0.6924 - val_loss: 2.8088\n",
            "Epoch 4/50\n",
            "145/145 [==============================] - 0s 2ms/step - loss: 0.4920 - val_loss: 1.7040\n",
            "Epoch 5/50\n",
            "145/145 [==============================] - 0s 2ms/step - loss: 0.3496 - val_loss: 6.6990\n",
            "Epoch 6/50\n",
            "145/145 [==============================] - 0s 3ms/step - loss: 0.3184 - val_loss: 12.3799\n",
            "Epoch 7/50\n",
            "145/145 [==============================] - 1s 4ms/step - loss: 0.2821 - val_loss: 7.4059\n",
            "Epoch 8/50\n",
            "145/145 [==============================] - 1s 4ms/step - loss: 0.2380 - val_loss: 4.0910\n",
            "Epoch 9/50\n",
            "145/145 [==============================] - 0s 3ms/step - loss: 0.2739 - val_loss: 6.3869\n",
            "Epoch 10/50\n",
            "145/145 [==============================] - 0s 3ms/step - loss: 0.1825 - val_loss: 4.5281\n",
            "Epoch 11/50\n",
            "145/145 [==============================] - 1s 4ms/step - loss: 0.2072 - val_loss: 4.0029\n",
            "Epoch 12/50\n",
            "145/145 [==============================] - 1s 4ms/step - loss: 0.1553 - val_loss: 7.1841\n",
            "Epoch 13/50\n",
            "145/145 [==============================] - 0s 3ms/step - loss: 0.1886 - val_loss: 0.4195\n",
            "Epoch 14/50\n",
            "145/145 [==============================] - 0s 2ms/step - loss: 0.2250 - val_loss: 1.4658\n",
            "Epoch 15/50\n",
            "145/145 [==============================] - 0s 2ms/step - loss: 0.1607 - val_loss: 2.8340\n",
            "Epoch 16/50\n",
            "145/145 [==============================] - 0s 2ms/step - loss: 0.1854 - val_loss: 1.3247\n",
            "Epoch 17/50\n",
            "145/145 [==============================] - 0s 2ms/step - loss: 0.1311 - val_loss: 1.6723\n",
            "Epoch 18/50\n",
            "145/145 [==============================] - 0s 2ms/step - loss: 0.1332 - val_loss: 1.0868\n",
            "Epoch 19/50\n",
            "145/145 [==============================] - 0s 2ms/step - loss: 0.1113 - val_loss: 1.7879\n",
            "Epoch 20/50\n",
            "145/145 [==============================] - 0s 2ms/step - loss: 0.0876 - val_loss: 18.3267\n",
            "Epoch 21/50\n",
            "145/145 [==============================] - 0s 3ms/step - loss: 0.1625 - val_loss: 1.2404\n",
            "Epoch 22/50\n",
            "145/145 [==============================] - 0s 2ms/step - loss: 0.0993 - val_loss: 1.0394\n",
            "Epoch 23/50\n",
            "145/145 [==============================] - 0s 2ms/step - loss: 0.1006 - val_loss: 0.4990\n",
            "Epoch 24/50\n",
            "145/145 [==============================] - 0s 3ms/step - loss: 0.0881 - val_loss: 0.1590\n",
            "Epoch 25/50\n",
            "145/145 [==============================] - 0s 2ms/step - loss: 0.0830 - val_loss: 0.9917\n",
            "Epoch 26/50\n",
            "145/145 [==============================] - 0s 2ms/step - loss: 0.1014 - val_loss: 1.0219\n",
            "Epoch 27/50\n",
            "145/145 [==============================] - 0s 2ms/step - loss: 0.0654 - val_loss: 0.0725\n",
            "Epoch 28/50\n",
            "145/145 [==============================] - 0s 2ms/step - loss: 0.0827 - val_loss: 0.2332\n",
            "Epoch 29/50\n",
            "145/145 [==============================] - 0s 2ms/step - loss: 0.0569 - val_loss: 0.7869\n",
            "Epoch 30/50\n",
            "145/145 [==============================] - 0s 3ms/step - loss: 0.1104 - val_loss: 0.3174\n",
            "Epoch 31/50\n",
            "145/145 [==============================] - 0s 2ms/step - loss: 0.0654 - val_loss: 1.1323\n",
            "Epoch 32/50\n",
            "145/145 [==============================] - 0s 2ms/step - loss: 0.0557 - val_loss: 0.2352\n",
            "Epoch 33/50\n",
            "145/145 [==============================] - 0s 2ms/step - loss: 0.0529 - val_loss: 1.1065\n",
            "Epoch 34/50\n",
            "145/145 [==============================] - 0s 2ms/step - loss: 0.0594 - val_loss: 0.2785\n",
            "Epoch 35/50\n",
            "145/145 [==============================] - 0s 2ms/step - loss: 0.0582 - val_loss: 0.2501\n",
            "Epoch 36/50\n",
            "145/145 [==============================] - 0s 2ms/step - loss: 0.0605 - val_loss: 0.0562\n",
            "Epoch 37/50\n",
            "145/145 [==============================] - 0s 2ms/step - loss: 0.0511 - val_loss: 0.0639\n",
            "Epoch 38/50\n",
            "145/145 [==============================] - 0s 2ms/step - loss: 0.0495 - val_loss: 6.9273\n",
            "Epoch 39/50\n",
            "145/145 [==============================] - 0s 2ms/step - loss: 0.2032 - val_loss: 0.6820\n",
            "Epoch 40/50\n",
            "145/145 [==============================] - 0s 2ms/step - loss: 0.0511 - val_loss: 0.2965\n",
            "Epoch 41/50\n",
            "145/145 [==============================] - 0s 2ms/step - loss: 0.0451 - val_loss: 0.1139\n",
            "Epoch 42/50\n",
            "145/145 [==============================] - 0s 2ms/step - loss: 0.0525 - val_loss: 0.2857\n",
            "Epoch 43/50\n",
            "145/145 [==============================] - 0s 3ms/step - loss: 0.0432 - val_loss: 0.1816\n",
            "Epoch 44/50\n",
            "145/145 [==============================] - 0s 3ms/step - loss: 0.0494 - val_loss: 0.1546\n",
            "Epoch 45/50\n",
            "145/145 [==============================] - 1s 7ms/step - loss: 0.0429 - val_loss: 0.0837\n",
            "Epoch 46/50\n",
            "145/145 [==============================] - 1s 4ms/step - loss: 0.0480 - val_loss: 0.1171\n",
            "Epoch 47/50\n",
            "145/145 [==============================] - 1s 4ms/step - loss: 0.0422 - val_loss: 0.1159\n",
            "Epoch 48/50\n",
            "145/145 [==============================] - 1s 4ms/step - loss: 0.0516 - val_loss: 0.0614\n",
            "Epoch 49/50\n",
            "145/145 [==============================] - 0s 3ms/step - loss: 0.0441 - val_loss: 0.1309\n",
            "Epoch 50/50\n",
            "145/145 [==============================] - 0s 2ms/step - loss: 0.0592 - val_loss: 0.1050\n"
          ]
        },
        {
          "output_type": "execute_result",
          "data": {
            "text/plain": [
              "<keras.src.callbacks.History at 0x7984f828a170>"
            ]
          },
          "metadata": {},
          "execution_count": 14
        }
      ]
    },
    {
      "cell_type": "markdown",
      "source": [
        "Tanto la pérdida de entrenamiento 'loss' como la pérdida de validación 'val_loss' disminuyen con cada época, lo que indica que el modelo está aprendiendo y mejorando su capacidad para predecir tanto en los datos de entrenamiento como en los de validación.\n",
        "\n",
        "A lo largo de todas las épocas, la pérdida de entrenamiento es menor que la pérdida de validación, lo que sugiere que el modelo puede estar sobreajustando los datos de entrenamiento. Aunque el loss sigue disminuyendo, el val_loss comienza a aumentar después de la época 20, lo que indica que el modelo deja de aprender a partir de esa época y comienza a sobreajustarse. Por lo tanto, se puede considerar que el modelo no aprende de manera efectiva después de la época 20. La diferencia creciente entre el loss y val_loss también indica la presencia de sobreajuste, lo que sugiere la necesidad de técnicas de regularización o ajuste de hiperparámetros para mejorar la generalización del modelo.\n",
        "\n",
        "Sin embargo, la diferencia entre ambas pérdidas parece mantenerse relativamente constante a lo largo del entrenamiento. A partir de alrededor de la época 40, la disminución en la pérdida tanto de entrenamiento como de validación es mínima. Esto sugiere que el modelo ya ha aprendido la mayoría de los patrones importantes en los datos y que continuar entrenando más allá de este punto probablemente no conducirá a mejoras significativas en el desempeño del modelo."
      ],
      "metadata": {
        "id": "035s8W47Suq1"
      }
    },
    {
      "cell_type": "markdown",
      "source": [
        "Se comprueba el modelo con los datos de test."
      ],
      "metadata": {
        "id": "xBd1a6WaS_iB"
      }
    },
    {
      "cell_type": "code",
      "source": [
        "scores = model.evaluate(x_test_data, y_reg_test, verbose=0)\n",
        "print('Loss: %.3f' % scores)"
      ],
      "metadata": {
        "colab": {
          "base_uri": "https://localhost:8080/"
        },
        "id": "dft37PuHS-4M",
        "outputId": "6e722507-a1de-442a-e965-f16621159173"
      },
      "execution_count": 15,
      "outputs": [
        {
          "output_type": "stream",
          "name": "stdout",
          "text": [
            "Loss: 0.074\n"
          ]
        }
      ]
    },
    {
      "cell_type": "markdown",
      "source": [
        "El hecho de que la pérdida en el conjunto de pruebas sea cercana a la pérdida en el conjunto de entrenamiento (0.074 en test y alrededor de 0.059 en train) sugiere que el modelo no está sufriendo de sobreajuste (overfitting), al menos en términos de pérdida."
      ],
      "metadata": {
        "id": "MpCE9eVJULsb"
      }
    },
    {
      "cell_type": "markdown",
      "source": [
        "Se prueba la red neuronal con la regularización Droput=0.5, lo que significa que se desactivan la mitad de las neuronas en cada interación de entrenamiento."
      ],
      "metadata": {
        "id": "ZwsMPJHIVE3h"
      }
    },
    {
      "cell_type": "code",
      "source": [
        "from keras.layers import Dropout\n",
        "model_dp = Sequential()\n",
        "model_dp.add(Dense(16, input_shape=(x_train_data.shape[1],), activation='relu'))\n",
        "model_dp.add(Dropout(0.5))\n",
        "model_dp.add(Dense(8, activation='relu'))\n",
        "model_dp.add(Dropout(0.5))\n",
        "model_dp.add(Dense(4, activation='relu'))\n",
        "model_dp.add(Dropout(0.5))\n",
        "model_dp.add(Dense(1, activation='linear'))"
      ],
      "metadata": {
        "id": "IIRuVa7rVJ2F"
      },
      "execution_count": 16,
      "outputs": []
    },
    {
      "cell_type": "code",
      "source": [
        "model_dp.compile(loss='mean_squared_error', optimizer='adam')\n",
        "\n",
        "model_dp.fit(x=x_train_data, y=y_reg_train,\n",
        "          validation_data=(x_validation_data, y_reg_validation),\n",
        "          epochs=50, batch_size=16)"
      ],
      "metadata": {
        "colab": {
          "base_uri": "https://localhost:8080/"
        },
        "id": "JzlTXqq-VN6Z",
        "outputId": "242a219e-08c4-4d4f-dc4e-3286b9c06972"
      },
      "execution_count": 17,
      "outputs": [
        {
          "output_type": "stream",
          "name": "stdout",
          "text": [
            "Epoch 1/50\n",
            "145/145 [==============================] - 2s 3ms/step - loss: 171042.7969 - val_loss: 14267.6953\n",
            "Epoch 2/50\n",
            "145/145 [==============================] - 0s 2ms/step - loss: 34258.8164 - val_loss: 1460.6324\n",
            "Epoch 3/50\n",
            "145/145 [==============================] - 0s 2ms/step - loss: 15796.1748 - val_loss: 240.2660\n",
            "Epoch 4/50\n",
            "145/145 [==============================] - 0s 2ms/step - loss: 8425.3848 - val_loss: 85.4376\n",
            "Epoch 5/50\n",
            "145/145 [==============================] - 0s 2ms/step - loss: 3667.7722 - val_loss: 109.3726\n",
            "Epoch 6/50\n",
            "145/145 [==============================] - 0s 2ms/step - loss: 2040.2085 - val_loss: 60.9684\n",
            "Epoch 7/50\n",
            "145/145 [==============================] - 0s 2ms/step - loss: 1881.7991 - val_loss: 129.4271\n",
            "Epoch 8/50\n",
            "145/145 [==============================] - 0s 2ms/step - loss: 1001.9824 - val_loss: 192.9594\n",
            "Epoch 9/50\n",
            "145/145 [==============================] - 0s 2ms/step - loss: 697.3353 - val_loss: 264.3174\n",
            "Epoch 10/50\n",
            "145/145 [==============================] - 0s 2ms/step - loss: 456.8208 - val_loss: 310.4039\n",
            "Epoch 11/50\n",
            "145/145 [==============================] - 0s 2ms/step - loss: 355.2206 - val_loss: 344.1161\n",
            "Epoch 12/50\n",
            "145/145 [==============================] - 0s 2ms/step - loss: 288.1406 - val_loss: 387.9644\n",
            "Epoch 13/50\n",
            "145/145 [==============================] - 0s 2ms/step - loss: 256.9314 - val_loss: 398.0406\n",
            "Epoch 14/50\n",
            "145/145 [==============================] - 0s 2ms/step - loss: 204.4630 - val_loss: 438.9483\n",
            "Epoch 15/50\n",
            "145/145 [==============================] - 0s 3ms/step - loss: 502.3020 - val_loss: 796.3918\n",
            "Epoch 16/50\n",
            "145/145 [==============================] - 0s 2ms/step - loss: 115.3929 - val_loss: 787.6464\n",
            "Epoch 17/50\n",
            "145/145 [==============================] - 0s 2ms/step - loss: 86.0797 - val_loss: 723.4166\n",
            "Epoch 18/50\n",
            "145/145 [==============================] - 0s 3ms/step - loss: 62.4433 - val_loss: 62.1597\n",
            "Epoch 19/50\n",
            "145/145 [==============================] - 0s 2ms/step - loss: 31.6435 - val_loss: 48.4843\n",
            "Epoch 20/50\n",
            "145/145 [==============================] - 0s 2ms/step - loss: 38.9519 - val_loss: 34.3838\n",
            "Epoch 21/50\n",
            "145/145 [==============================] - 0s 3ms/step - loss: 28.0816 - val_loss: 28.8902\n",
            "Epoch 22/50\n",
            "145/145 [==============================] - 0s 3ms/step - loss: 26.6286 - val_loss: 22.9911\n",
            "Epoch 23/50\n",
            "145/145 [==============================] - 0s 2ms/step - loss: 22.8546 - val_loss: 17.2637\n",
            "Epoch 24/50\n",
            "145/145 [==============================] - 0s 2ms/step - loss: 19.6018 - val_loss: 14.5202\n",
            "Epoch 25/50\n",
            "145/145 [==============================] - 0s 2ms/step - loss: 21.1670 - val_loss: 10.3860\n",
            "Epoch 26/50\n",
            "145/145 [==============================] - 0s 2ms/step - loss: 19.1636 - val_loss: 6.8929\n",
            "Epoch 27/50\n",
            "145/145 [==============================] - 1s 4ms/step - loss: 14.8380 - val_loss: 4.8541\n",
            "Epoch 28/50\n",
            "145/145 [==============================] - 1s 4ms/step - loss: 10.5912 - val_loss: 2.2759\n",
            "Epoch 29/50\n",
            "145/145 [==============================] - 1s 4ms/step - loss: 12.5318 - val_loss: 1.2362\n",
            "Epoch 30/50\n",
            "145/145 [==============================] - 1s 4ms/step - loss: 10.4750 - val_loss: 0.7608\n",
            "Epoch 31/50\n",
            "145/145 [==============================] - 1s 4ms/step - loss: 16.3437 - val_loss: 0.6927\n",
            "Epoch 32/50\n",
            "145/145 [==============================] - 1s 4ms/step - loss: 6.0015 - val_loss: 0.6228\n",
            "Epoch 33/50\n",
            "145/145 [==============================] - 0s 3ms/step - loss: 5.0675 - val_loss: 0.5611\n",
            "Epoch 34/50\n",
            "145/145 [==============================] - 0s 3ms/step - loss: 5.4615 - val_loss: 0.5167\n",
            "Epoch 35/50\n",
            "145/145 [==============================] - 0s 2ms/step - loss: 3.5253 - val_loss: 0.4789\n",
            "Epoch 36/50\n",
            "145/145 [==============================] - 0s 2ms/step - loss: 5.5404 - val_loss: 0.4375\n",
            "Epoch 37/50\n",
            "145/145 [==============================] - 0s 2ms/step - loss: 23.2900 - val_loss: 0.4049\n",
            "Epoch 38/50\n",
            "145/145 [==============================] - 0s 2ms/step - loss: 21.4803 - val_loss: 0.3816\n",
            "Epoch 39/50\n",
            "145/145 [==============================] - 0s 2ms/step - loss: 3.5001 - val_loss: 0.3550\n",
            "Epoch 40/50\n",
            "145/145 [==============================] - 0s 2ms/step - loss: 2.6143 - val_loss: 0.3142\n",
            "Epoch 41/50\n",
            "145/145 [==============================] - 0s 2ms/step - loss: 2.6594 - val_loss: 0.2969\n",
            "Epoch 42/50\n",
            "145/145 [==============================] - 0s 2ms/step - loss: 2.4359 - val_loss: 0.2750\n",
            "Epoch 43/50\n",
            "145/145 [==============================] - 0s 2ms/step - loss: 1.0309 - val_loss: 0.2793\n",
            "Epoch 44/50\n",
            "145/145 [==============================] - 0s 2ms/step - loss: 1.9376 - val_loss: 0.2894\n",
            "Epoch 45/50\n",
            "145/145 [==============================] - 0s 2ms/step - loss: 2.0638 - val_loss: 0.3202\n",
            "Epoch 46/50\n",
            "145/145 [==============================] - 0s 2ms/step - loss: 1.8075 - val_loss: 0.2872\n",
            "Epoch 47/50\n",
            "145/145 [==============================] - 0s 2ms/step - loss: 1.9958 - val_loss: 0.2608\n",
            "Epoch 48/50\n",
            "145/145 [==============================] - 0s 2ms/step - loss: 0.9255 - val_loss: 0.2354\n",
            "Epoch 49/50\n",
            "145/145 [==============================] - 0s 2ms/step - loss: 8.8291 - val_loss: 0.1512\n",
            "Epoch 50/50\n",
            "145/145 [==============================] - 0s 2ms/step - loss: 0.7247 - val_loss: 0.1402\n"
          ]
        },
        {
          "output_type": "execute_result",
          "data": {
            "text/plain": [
              "<keras.src.callbacks.History at 0x7984e7893820>"
            ]
          },
          "metadata": {},
          "execution_count": 17
        }
      ]
    },
    {
      "cell_type": "code",
      "source": [
        "scores = model_dp.evaluate(x_test_data, y_reg_test, verbose=0)\n",
        "print('Loss: %.3f' % scores)"
      ],
      "metadata": {
        "colab": {
          "base_uri": "https://localhost:8080/"
        },
        "id": "0ZWaCvPhVq7u",
        "outputId": "9034f428-5f82-4bde-89f1-6c7366a5839d"
      },
      "execution_count": 18,
      "outputs": [
        {
          "output_type": "stream",
          "name": "stdout",
          "text": [
            "Loss: 0.152\n"
          ]
        }
      ]
    },
    {
      "cell_type": "markdown",
      "source": [
        "No se aprecia mejoria. Se optimiza el hiperparámetro Learning_rate."
      ],
      "metadata": {
        "id": "3mIdtnqBX1sl"
      }
    },
    {
      "cell_type": "code",
      "source": [
        "model_lr = Sequential()\n",
        "model_lr.add(Dense(16, input_shape=(x_train_data.shape[1],), activation='relu'))\n",
        "model_lr.add(Dense(8, activation='relu'))\n",
        "model_lr.add(Dense(4, activation='relu'))\n",
        "model_lr.add(Dense(1, activation='linear'))\n",
        "\n",
        "optimizer = Adam(learning_rate=0.001)\n",
        "model_lr.compile(loss='mean_squared_error', optimizer=optimizer)\n",
        "\n",
        "model_lr.fit(x=x_train_data, y=y_reg_train,\n",
        "          validation_data=(x_validation_data, y_reg_validation),\n",
        "          epochs=50, batch_size=32)"
      ],
      "metadata": {
        "colab": {
          "base_uri": "https://localhost:8080/"
        },
        "id": "kUv6dmKmYKRw",
        "outputId": "30816377-041f-414c-b889-6a9bb4878add"
      },
      "execution_count": 20,
      "outputs": [
        {
          "output_type": "stream",
          "name": "stdout",
          "text": [
            "Epoch 1/50\n",
            "73/73 [==============================] - 1s 5ms/step - loss: 345.9076 - val_loss: 6.6354\n",
            "Epoch 2/50\n",
            "73/73 [==============================] - 0s 2ms/step - loss: 3.6250 - val_loss: 2.1532\n",
            "Epoch 3/50\n",
            "73/73 [==============================] - 0s 3ms/step - loss: 1.4915 - val_loss: 1.3554\n",
            "Epoch 4/50\n",
            "73/73 [==============================] - 0s 3ms/step - loss: 1.0765 - val_loss: 1.0812\n",
            "Epoch 5/50\n",
            "73/73 [==============================] - 0s 2ms/step - loss: 0.9558 - val_loss: 0.9163\n",
            "Epoch 6/50\n",
            "73/73 [==============================] - 0s 2ms/step - loss: 0.8899 - val_loss: 0.8486\n",
            "Epoch 7/50\n",
            "73/73 [==============================] - 0s 3ms/step - loss: 0.8461 - val_loss: 0.7895\n",
            "Epoch 8/50\n",
            "73/73 [==============================] - 0s 3ms/step - loss: 0.8100 - val_loss: 0.7242\n",
            "Epoch 9/50\n",
            "73/73 [==============================] - 0s 3ms/step - loss: 0.7747 - val_loss: 0.6925\n",
            "Epoch 10/50\n",
            "73/73 [==============================] - 0s 3ms/step - loss: 0.7410 - val_loss: 0.6498\n",
            "Epoch 11/50\n",
            "73/73 [==============================] - 0s 3ms/step - loss: 0.7104 - val_loss: 0.6167\n",
            "Epoch 12/50\n",
            "73/73 [==============================] - 0s 2ms/step - loss: 0.6796 - val_loss: 0.5833\n",
            "Epoch 13/50\n",
            "73/73 [==============================] - 0s 3ms/step - loss: 0.6493 - val_loss: 0.5550\n",
            "Epoch 14/50\n",
            "73/73 [==============================] - 0s 3ms/step - loss: 0.6194 - val_loss: 0.5293\n",
            "Epoch 15/50\n",
            "73/73 [==============================] - 0s 3ms/step - loss: 0.5911 - val_loss: 0.4948\n",
            "Epoch 16/50\n",
            "73/73 [==============================] - 0s 3ms/step - loss: 0.5618 - val_loss: 0.4748\n",
            "Epoch 17/50\n",
            "73/73 [==============================] - 0s 3ms/step - loss: 0.5342 - val_loss: 0.4520\n",
            "Epoch 18/50\n",
            "73/73 [==============================] - 0s 3ms/step - loss: 0.5078 - val_loss: 0.4268\n",
            "Epoch 19/50\n",
            "73/73 [==============================] - 0s 3ms/step - loss: 0.4809 - val_loss: 0.4040\n",
            "Epoch 20/50\n",
            "73/73 [==============================] - 0s 3ms/step - loss: 0.4554 - val_loss: 0.3839\n",
            "Epoch 21/50\n",
            "73/73 [==============================] - 0s 3ms/step - loss: 0.4310 - val_loss: 0.3644\n",
            "Epoch 22/50\n",
            "73/73 [==============================] - 0s 3ms/step - loss: 0.4074 - val_loss: 0.3446\n",
            "Epoch 23/50\n",
            "73/73 [==============================] - 0s 3ms/step - loss: 0.3845 - val_loss: 0.3267\n",
            "Epoch 24/50\n",
            "73/73 [==============================] - 0s 3ms/step - loss: 0.3624 - val_loss: 0.3101\n",
            "Epoch 25/50\n",
            "73/73 [==============================] - 0s 2ms/step - loss: 0.3413 - val_loss: 0.2937\n",
            "Epoch 26/50\n",
            "73/73 [==============================] - 0s 3ms/step - loss: 0.3213 - val_loss: 0.2761\n",
            "Epoch 27/50\n",
            "73/73 [==============================] - 0s 3ms/step - loss: 0.2943 - val_loss: 0.2585\n",
            "Epoch 28/50\n",
            "73/73 [==============================] - 0s 3ms/step - loss: 0.2703 - val_loss: 0.2442\n",
            "Epoch 29/50\n",
            "73/73 [==============================] - 0s 3ms/step - loss: 0.2493 - val_loss: 0.2332\n",
            "Epoch 30/50\n",
            "73/73 [==============================] - 0s 3ms/step - loss: 0.2350 - val_loss: 0.2201\n",
            "Epoch 31/50\n",
            "73/73 [==============================] - 0s 3ms/step - loss: 0.2205 - val_loss: 0.2103\n",
            "Epoch 32/50\n",
            "73/73 [==============================] - 0s 3ms/step - loss: 0.2082 - val_loss: 0.1982\n",
            "Epoch 33/50\n",
            "73/73 [==============================] - 0s 3ms/step - loss: 0.1950 - val_loss: 0.1871\n",
            "Epoch 34/50\n",
            "73/73 [==============================] - 0s 3ms/step - loss: 0.1829 - val_loss: 0.1782\n",
            "Epoch 35/50\n",
            "73/73 [==============================] - 0s 3ms/step - loss: 0.1724 - val_loss: 0.1682\n",
            "Epoch 36/50\n",
            "73/73 [==============================] - 0s 3ms/step - loss: 0.1617 - val_loss: 0.1611\n",
            "Epoch 37/50\n",
            "73/73 [==============================] - 0s 3ms/step - loss: 0.1526 - val_loss: 0.1539\n",
            "Epoch 38/50\n",
            "73/73 [==============================] - 0s 3ms/step - loss: 0.1438 - val_loss: 0.1454\n",
            "Epoch 39/50\n",
            "73/73 [==============================] - 0s 3ms/step - loss: 0.1360 - val_loss: 0.1392\n",
            "Epoch 40/50\n",
            "73/73 [==============================] - 0s 4ms/step - loss: 0.1289 - val_loss: 0.1346\n",
            "Epoch 41/50\n",
            "73/73 [==============================] - 0s 4ms/step - loss: 0.1224 - val_loss: 0.1291\n",
            "Epoch 42/50\n",
            "73/73 [==============================] - 0s 4ms/step - loss: 0.1166 - val_loss: 0.1251\n",
            "Epoch 43/50\n",
            "73/73 [==============================] - 0s 4ms/step - loss: 0.1114 - val_loss: 0.1197\n",
            "Epoch 44/50\n",
            "73/73 [==============================] - 0s 3ms/step - loss: 0.1067 - val_loss: 0.1174\n",
            "Epoch 45/50\n",
            "73/73 [==============================] - 0s 4ms/step - loss: 0.1026 - val_loss: 0.1136\n",
            "Epoch 46/50\n",
            "73/73 [==============================] - 0s 4ms/step - loss: 0.0988 - val_loss: 0.1097\n",
            "Epoch 47/50\n",
            "73/73 [==============================] - 0s 4ms/step - loss: 0.0955 - val_loss: 0.1076\n",
            "Epoch 48/50\n",
            "73/73 [==============================] - 0s 4ms/step - loss: 0.0926 - val_loss: 0.1055\n",
            "Epoch 49/50\n",
            "73/73 [==============================] - 0s 4ms/step - loss: 0.0902 - val_loss: 0.1027\n",
            "Epoch 50/50\n",
            "73/73 [==============================] - 0s 5ms/step - loss: 0.0880 - val_loss: 0.1008\n"
          ]
        },
        {
          "output_type": "execute_result",
          "data": {
            "text/plain": [
              "<keras.src.callbacks.History at 0x7984e82fc220>"
            ]
          },
          "metadata": {},
          "execution_count": 20
        }
      ]
    },
    {
      "cell_type": "code",
      "source": [
        "scores = model_lr.evaluate(x_test_data, y_reg_test, verbose=0)\n",
        "print('Loss: %.3f' % scores)"
      ],
      "metadata": {
        "colab": {
          "base_uri": "https://localhost:8080/"
        },
        "id": "TBaNHeH4Y3ZK",
        "outputId": "42d6aecd-886a-4134-b404-260afd5b8e38"
      },
      "execution_count": 21,
      "outputs": [
        {
          "output_type": "stream",
          "name": "stdout",
          "text": [
            "Loss: 0.098\n"
          ]
        }
      ]
    },
    {
      "cell_type": "markdown",
      "source": [
        "En base a los resultados y la ausencia de señales claras de sobreajuste, parece que el modelo de regresión lineal está generalizando bien y proporcionando resultados sólidos tanto en los datos de validación como en los datos de prueba."
      ],
      "metadata": {
        "id": "GcIvYVmOZMhn"
      }
    },
    {
      "cell_type": "markdown",
      "source": [
        "# Modelo de Regresión con imágenes"
      ],
      "metadata": {
        "id": "fw0IMLauaCDl"
      }
    },
    {
      "cell_type": "markdown",
      "source": [
        "Se implementa un modelo de regresión neuronal utilizando Keras con TensorFlow. Para desarrollar un sistema capaz de predecir valores numéricos a partir de imágenes se utiliza una arquitectura de red convolucional (CNN) que tomará las imágenes comom entrada y generará una salida numérica.\n",
        "\n",
        "La arquitectura consta de varias capas, incluidas capas convolucionales, de agrupación y densas.\n",
        "\n",
        "Se utiliza el optimizador Adam para minimizar la función de perdida del error cuadrático medio durante el entrenamiento."
      ],
      "metadata": {
        "id": "VfF33wFpaLzE"
      }
    },
    {
      "cell_type": "code",
      "source": [
        "from tensorflow.keras.models import Sequential, Model\n",
        "from tensorflow.keras.layers import BatchNormalization, Conv2D, MaxPooling2D, Activation, Dropout, Dense, Flatten, Input\n",
        "from tensorflow.keras.optimizers import Adam"
      ],
      "metadata": {
        "id": "8Y4KiiDIfSb2"
      },
      "execution_count": 2,
      "outputs": []
    },
    {
      "cell_type": "code",
      "source": [
        "inputShape = (224, 224, 3)\n",
        "chanDim = -1\n",
        "\n",
        "filters=(16, 32, 64)\n",
        "inputs = Input(shape=inputShape)\n",
        "\n",
        "for (i, f) in enumerate(filters):\n",
        "\n",
        "    if i == 0:\n",
        "        x = inputs\n",
        "\n",
        "    x = Conv2D(f, (3, 3), padding=\"same\")(x)\n",
        "    x = BatchNormalization(axis=chanDim)(x)\n",
        "    x = Activation(\"relu\")(x)\n",
        "    x = MaxPooling2D(pool_size=(2, 2))(x)\n",
        "\n",
        "x = Flatten()(x)\n",
        "x = Dense(16)(x)\n",
        "x = BatchNormalization(axis=chanDim)(x)\n",
        "x = Activation(\"relu\")(x)\n",
        "x = Dropout(0.5)(x)\n",
        "x = Dense(8)(x)\n",
        "x = Activation(\"relu\")(x)\n",
        "x = Dense(4)(x)\n",
        "x = Activation(\"relu\")(x)\n",
        "x = Dense(1, activation=\"linear\")(x)\n",
        "\n",
        "model_img_reg = Model(inputs, x)\n",
        "\n",
        "optim = Adam(lr=1e-3)\n",
        "model_img_reg .compile(loss=\"mean_squared_error\", optimizer=optim)\n",
        "\n",
        "model_img_reg .fit(x=images_train, y=y_reg_train,\n",
        "    validation_data=(images_validation, y_reg_validation),\n",
        "    epochs=50, batch_size=8)"
      ],
      "metadata": {
        "colab": {
          "base_uri": "https://localhost:8080/"
        },
        "id": "r-hXRzsEfWkR",
        "outputId": "84eb3046-1007-4f1e-9ba9-7b64eba0e413"
      },
      "execution_count": 26,
      "outputs": [
        {
          "output_type": "stream",
          "name": "stderr",
          "text": [
            "WARNING:absl:`lr` is deprecated in Keras optimizer, please use `learning_rate` or use the legacy optimizer, e.g.,tf.keras.optimizers.legacy.Adam.\n"
          ]
        },
        {
          "output_type": "stream",
          "name": "stdout",
          "text": [
            "Epoch 1/50\n",
            "290/290 [==============================] - 15s 18ms/step - loss: 0.3610 - val_loss: 0.0773\n",
            "Epoch 2/50\n",
            "290/290 [==============================] - 4s 13ms/step - loss: 0.1326 - val_loss: 0.0764\n",
            "Epoch 3/50\n",
            "290/290 [==============================] - 4s 14ms/step - loss: 0.0977 - val_loss: 0.1126\n",
            "Epoch 4/50\n",
            "290/290 [==============================] - 4s 13ms/step - loss: 0.0844 - val_loss: 0.0967\n",
            "Epoch 5/50\n",
            "290/290 [==============================] - 4s 13ms/step - loss: 0.0796 - val_loss: 0.0886\n",
            "Epoch 6/50\n",
            "290/290 [==============================] - 4s 14ms/step - loss: 0.0756 - val_loss: 0.1105\n",
            "Epoch 7/50\n",
            "290/290 [==============================] - 4s 13ms/step - loss: 0.0732 - val_loss: 0.0989\n",
            "Epoch 8/50\n",
            "290/290 [==============================] - 4s 13ms/step - loss: 0.0726 - val_loss: 0.1054\n",
            "Epoch 9/50\n",
            "290/290 [==============================] - 4s 13ms/step - loss: 0.0712 - val_loss: 0.0818\n",
            "Epoch 10/50\n",
            "290/290 [==============================] - 4s 14ms/step - loss: 0.0711 - val_loss: 0.0975\n",
            "Epoch 11/50\n",
            "290/290 [==============================] - 4s 13ms/step - loss: 0.0695 - val_loss: 0.0806\n",
            "Epoch 12/50\n",
            "290/290 [==============================] - 4s 13ms/step - loss: 0.0683 - val_loss: 0.1277\n",
            "Epoch 13/50\n",
            "290/290 [==============================] - 4s 14ms/step - loss: 0.0687 - val_loss: 0.1124\n",
            "Epoch 14/50\n",
            "290/290 [==============================] - 4s 13ms/step - loss: 0.0695 - val_loss: 0.1360\n",
            "Epoch 15/50\n",
            "290/290 [==============================] - 4s 13ms/step - loss: 0.0675 - val_loss: 0.1102\n",
            "Epoch 16/50\n",
            "290/290 [==============================] - 4s 13ms/step - loss: 0.0678 - val_loss: 0.1397\n",
            "Epoch 17/50\n",
            "290/290 [==============================] - 4s 14ms/step - loss: 0.0665 - val_loss: 0.0851\n",
            "Epoch 18/50\n",
            "290/290 [==============================] - 4s 13ms/step - loss: 0.0669 - val_loss: 0.1342\n",
            "Epoch 19/50\n",
            "290/290 [==============================] - 4s 13ms/step - loss: 0.0665 - val_loss: 0.1336\n",
            "Epoch 20/50\n",
            "290/290 [==============================] - 4s 14ms/step - loss: 0.0661 - val_loss: 0.1685\n",
            "Epoch 21/50\n",
            "290/290 [==============================] - 4s 13ms/step - loss: 0.0643 - val_loss: 0.0954\n",
            "Epoch 22/50\n",
            "290/290 [==============================] - 4s 13ms/step - loss: 0.0636 - val_loss: 0.0976\n",
            "Epoch 23/50\n",
            "290/290 [==============================] - 4s 14ms/step - loss: 0.0612 - val_loss: 0.1502\n",
            "Epoch 24/50\n",
            "290/290 [==============================] - 4s 13ms/step - loss: 0.0623 - val_loss: 0.1655\n",
            "Epoch 25/50\n",
            "290/290 [==============================] - 4s 13ms/step - loss: 0.0607 - val_loss: 0.1185\n",
            "Epoch 26/50\n",
            "290/290 [==============================] - 4s 13ms/step - loss: 0.0601 - val_loss: 0.1957\n",
            "Epoch 27/50\n",
            "290/290 [==============================] - 4s 14ms/step - loss: 0.0586 - val_loss: 0.1157\n",
            "Epoch 28/50\n",
            "290/290 [==============================] - 4s 13ms/step - loss: 0.0588 - val_loss: 0.1613\n",
            "Epoch 29/50\n",
            "290/290 [==============================] - 4s 13ms/step - loss: 0.0590 - val_loss: 0.1379\n",
            "Epoch 30/50\n",
            "290/290 [==============================] - 4s 15ms/step - loss: 0.0561 - val_loss: 0.1558\n",
            "Epoch 31/50\n",
            "290/290 [==============================] - 4s 13ms/step - loss: 0.0530 - val_loss: 0.1433\n",
            "Epoch 32/50\n",
            "290/290 [==============================] - 4s 13ms/step - loss: 0.0511 - val_loss: 0.1119\n",
            "Epoch 33/50\n",
            "290/290 [==============================] - 4s 14ms/step - loss: 0.0490 - val_loss: 0.1836\n",
            "Epoch 34/50\n",
            "290/290 [==============================] - 4s 13ms/step - loss: 0.0484 - val_loss: 0.1106\n",
            "Epoch 35/50\n",
            "290/290 [==============================] - 4s 13ms/step - loss: 0.0512 - val_loss: 0.1363\n",
            "Epoch 36/50\n",
            "290/290 [==============================] - 4s 13ms/step - loss: 0.0479 - val_loss: 0.1269\n",
            "Epoch 37/50\n",
            "290/290 [==============================] - 4s 14ms/step - loss: 0.0460 - val_loss: 0.1545\n",
            "Epoch 38/50\n",
            "290/290 [==============================] - 4s 13ms/step - loss: 0.0433 - val_loss: 0.1566\n",
            "Epoch 39/50\n",
            "290/290 [==============================] - 4s 13ms/step - loss: 0.0449 - val_loss: 0.1662\n",
            "Epoch 40/50\n",
            "290/290 [==============================] - 4s 14ms/step - loss: 0.0419 - val_loss: 0.1269\n",
            "Epoch 41/50\n",
            "290/290 [==============================] - 4s 13ms/step - loss: 0.0427 - val_loss: 0.1756\n",
            "Epoch 42/50\n",
            "290/290 [==============================] - 4s 13ms/step - loss: 0.0417 - val_loss: 0.1851\n",
            "Epoch 43/50\n",
            "290/290 [==============================] - 4s 13ms/step - loss: 0.0398 - val_loss: 0.2498\n",
            "Epoch 44/50\n",
            "290/290 [==============================] - 4s 14ms/step - loss: 0.0397 - val_loss: 0.1509\n",
            "Epoch 45/50\n",
            "290/290 [==============================] - 4s 13ms/step - loss: 0.0392 - val_loss: 0.1959\n",
            "Epoch 46/50\n",
            "290/290 [==============================] - 4s 13ms/step - loss: 0.0375 - val_loss: 0.2180\n",
            "Epoch 47/50\n",
            "290/290 [==============================] - 4s 14ms/step - loss: 0.0375 - val_loss: 0.1559\n",
            "Epoch 48/50\n",
            "290/290 [==============================] - 4s 13ms/step - loss: 0.0356 - val_loss: 0.1488\n",
            "Epoch 49/50\n",
            "290/290 [==============================] - 4s 13ms/step - loss: 0.0340 - val_loss: 0.1392\n",
            "Epoch 50/50\n",
            "290/290 [==============================] - 4s 14ms/step - loss: 0.0354 - val_loss: 0.2033\n"
          ]
        },
        {
          "output_type": "execute_result",
          "data": {
            "text/plain": [
              "<keras.src.callbacks.History at 0x7f6dae588b80>"
            ]
          },
          "metadata": {},
          "execution_count": 26
        }
      ]
    },
    {
      "cell_type": "code",
      "source": [
        "scores = model_img_reg.evaluate(images_test, y_reg_test, verbose=0)\n",
        "print('Loss: %.3f' % scores)"
      ],
      "metadata": {
        "colab": {
          "base_uri": "https://localhost:8080/"
        },
        "id": "R89qg6NKsKj0",
        "outputId": "a671ecb0-30f5-4b96-8773-0d59d70e97bb"
      },
      "execution_count": 27,
      "outputs": [
        {
          "output_type": "stream",
          "name": "stdout",
          "text": [
            "Loss: 0.190\n"
          ]
        }
      ]
    },
    {
      "cell_type": "markdown",
      "source": [
        "Parece que el modelo de regresión neuronal para imágenes está aprendiendo de manera efectiva y generaliza bien en datos no vistos, lo que es un buen indicador de que es un modelo útil."
      ],
      "metadata": {
        "id": "_SaYSWDfsr2Q"
      }
    },
    {
      "cell_type": "markdown",
      "source": [
        "# Modelo de Regresión con datos e imágenes."
      ],
      "metadata": {
        "id": "TNrvUeE1t-W2"
      }
    },
    {
      "cell_type": "markdown",
      "source": [
        "Se van a combinar dos modelos de redes neuronales, uno de datos numéricos y otro para imágenes utilizando la concatenación.  El modelo de datos se realiza con capas densas con activación y para las imágenes se utilizan capas convolucionales y normalización por lotes con activación. Cuando se concatenan se agregan capas densas adicionales para las predicciones finales. Se utiliza como optimizador Adam."
      ],
      "metadata": {
        "id": "lvyLAYasu7dz"
      }
    },
    {
      "cell_type": "code",
      "source": [
        "from tensorflow.keras.models import Sequential, Model\n",
        "from tensorflow.keras.layers import Dense\n",
        "from tensorflow.keras.layers import BatchNormalization, Conv2D, MaxPooling2D, Activation, Dropout, Dense, Flatten, Input"
      ],
      "metadata": {
        "id": "JB8pOrYEuCeU"
      },
      "execution_count": 43,
      "outputs": []
    },
    {
      "cell_type": "code",
      "source": [
        "model_mix_reg = Sequential()\n",
        "model_mix_reg .add(Dense(16, input_dim=x_train_data.shape[1], activation=\"relu\"))\n",
        "model_mix_reg .add(Dense(8, input_dim=x_train_data.shape[1], activation=\"relu\"))\n",
        "model_mix_reg .add(Dense(4, activation=\"relu\"))"
      ],
      "metadata": {
        "id": "1wYFLDfSvEH0"
      },
      "execution_count": 44,
      "outputs": []
    },
    {
      "cell_type": "code",
      "source": [
        "inputShape = (224, 224, 3)\n",
        "chanDim = -1\n",
        "\n",
        "filters=(16, 32, 64)\n",
        "inputs = Input(shape=inputShape)\n",
        "\n",
        "for (i, f) in enumerate(filters):\n",
        "  if i == 0:\n",
        "\t  x = inputs\n",
        "\n",
        "  x = Conv2D(f, (3, 3), padding=\"same\")(x)\n",
        "  x = BatchNormalization(axis=chanDim)(x)\n",
        "  x = Activation(\"relu\")(x)\n",
        "  x = MaxPooling2D(pool_size=(2, 2))(x)\n",
        "\n",
        "x = Flatten()(x)\n",
        "x = Dense(16)(x)\n",
        "x = BatchNormalization(axis=chanDim)(x)\n",
        "x = Activation(\"relu\")(x)\n",
        "x = Dropout(0.5)(x)\n",
        "x = Dense(8)(x)\n",
        "x = Activation(\"relu\")(x)\n",
        "x = Dense(4)(x)\n",
        "x = Activation(\"relu\")(x)\n",
        "\n",
        "cnn = Model(inputs, x)"
      ],
      "metadata": {
        "id": "1JvzAdHBvRrn"
      },
      "execution_count": 45,
      "outputs": []
    },
    {
      "cell_type": "markdown",
      "source": [
        "Se combinan ambas redes neuronales"
      ],
      "metadata": {
        "id": "tlxB11ONxxdg"
      }
    },
    {
      "cell_type": "code",
      "source": [
        "from tensorflow.keras.layers import concatenate\n",
        "\n",
        "combinedInput = concatenate([model_mix_reg.output, cnn.output])"
      ],
      "metadata": {
        "id": "f6daXV6UxtJP"
      },
      "execution_count": 46,
      "outputs": []
    },
    {
      "cell_type": "code",
      "source": [
        "from tensorflow.keras.optimizers import Adam\n",
        "\n",
        "x = Dense(4, activation=\"relu\")(combinedInput)\n",
        "x = Dense(1, activation=\"linear\")(x)\n",
        "\n",
        "model_final_reg = Model(inputs=[model_mix_reg.input, cnn.input], outputs=x)\n",
        "\n",
        "optim = Adam(lr=1e-3)\n",
        "model_final_reg.compile(loss=\"mean_squared_error\", optimizer=optim)\n",
        "\n",
        "model_final_reg.fit(\n",
        "\tx=[x_train_data, images_train], y=y_reg_train,\n",
        "\tvalidation_data=([x_validation_data, images_validation], y_reg_validation),\n",
        "\tepochs=50, batch_size=8)\n",
        ""
      ],
      "metadata": {
        "colab": {
          "base_uri": "https://localhost:8080/"
        },
        "id": "t938rdPhy8pz",
        "outputId": "a1b73c08-c115-4416-e45b-2fd22ac027e9"
      },
      "execution_count": 56,
      "outputs": [
        {
          "output_type": "stream",
          "name": "stderr",
          "text": [
            "WARNING:absl:`lr` is deprecated in Keras optimizer, please use `learning_rate` or use the legacy optimizer, e.g.,tf.keras.optimizers.legacy.Adam.\n"
          ]
        },
        {
          "output_type": "stream",
          "name": "stdout",
          "text": [
            "Epoch 1/50\n",
            "290/290 [==============================] - 10s 18ms/step - loss: 4.5842 - val_loss: 5.2876\n",
            "Epoch 2/50\n",
            "290/290 [==============================] - 4s 14ms/step - loss: 0.4399 - val_loss: 1.8936\n",
            "Epoch 3/50\n",
            "290/290 [==============================] - 4s 15ms/step - loss: 0.2682 - val_loss: 0.2163\n",
            "Epoch 4/50\n",
            "290/290 [==============================] - 4s 14ms/step - loss: 0.1762 - val_loss: 0.1407\n",
            "Epoch 5/50\n",
            "290/290 [==============================] - 4s 14ms/step - loss: 0.1304 - val_loss: 0.1205\n",
            "Epoch 6/50\n",
            "290/290 [==============================] - 4s 15ms/step - loss: 0.1012 - val_loss: 0.1188\n",
            "Epoch 7/50\n",
            "290/290 [==============================] - 4s 14ms/step - loss: 0.0858 - val_loss: 0.0917\n",
            "Epoch 8/50\n",
            "290/290 [==============================] - 4s 14ms/step - loss: 0.0793 - val_loss: 0.0776\n",
            "Epoch 9/50\n",
            "290/290 [==============================] - 4s 15ms/step - loss: 0.0766 - val_loss: 0.0762\n",
            "Epoch 10/50\n",
            "290/290 [==============================] - 4s 14ms/step - loss: 0.0750 - val_loss: 0.0957\n",
            "Epoch 11/50\n",
            "290/290 [==============================] - 4s 14ms/step - loss: 0.0748 - val_loss: 0.0790\n",
            "Epoch 12/50\n",
            "290/290 [==============================] - 4s 15ms/step - loss: 0.0743 - val_loss: 0.0776\n",
            "Epoch 13/50\n",
            "290/290 [==============================] - 4s 14ms/step - loss: 0.0744 - val_loss: 0.0779\n",
            "Epoch 14/50\n",
            "290/290 [==============================] - 4s 14ms/step - loss: 0.0743 - val_loss: 0.0808\n",
            "Epoch 15/50\n",
            "290/290 [==============================] - 4s 14ms/step - loss: 0.0738 - val_loss: 0.0774\n",
            "Epoch 16/50\n",
            "290/290 [==============================] - 4s 14ms/step - loss: 0.0732 - val_loss: 0.0776\n",
            "Epoch 17/50\n",
            "290/290 [==============================] - 4s 13ms/step - loss: 0.0744 - val_loss: 0.0812\n",
            "Epoch 18/50\n",
            "290/290 [==============================] - 4s 14ms/step - loss: 0.0723 - val_loss: 0.0782\n",
            "Epoch 19/50\n",
            "290/290 [==============================] - 4s 15ms/step - loss: 0.0738 - val_loss: 0.0963\n",
            "Epoch 20/50\n",
            "290/290 [==============================] - 4s 14ms/step - loss: 0.0739 - val_loss: 0.0797\n",
            "Epoch 21/50\n",
            "290/290 [==============================] - 4s 14ms/step - loss: 0.0741 - val_loss: 0.0784\n",
            "Epoch 22/50\n",
            "290/290 [==============================] - 4s 15ms/step - loss: 0.0731 - val_loss: 0.0783\n",
            "Epoch 23/50\n",
            "290/290 [==============================] - 4s 14ms/step - loss: 0.0723 - val_loss: 0.0890\n",
            "Epoch 24/50\n",
            "290/290 [==============================] - 4s 14ms/step - loss: 0.0729 - val_loss: 0.0834\n",
            "Epoch 25/50\n",
            "290/290 [==============================] - 4s 15ms/step - loss: 0.0719 - val_loss: 0.0768\n",
            "Epoch 26/50\n",
            "290/290 [==============================] - 4s 14ms/step - loss: 0.0727 - val_loss: 0.0839\n",
            "Epoch 27/50\n",
            "290/290 [==============================] - 4s 14ms/step - loss: 0.0715 - val_loss: 0.0862\n",
            "Epoch 28/50\n",
            "290/290 [==============================] - 4s 15ms/step - loss: 0.0719 - val_loss: 0.0895\n",
            "Epoch 29/50\n",
            "290/290 [==============================] - 4s 14ms/step - loss: 0.0712 - val_loss: 0.0855\n",
            "Epoch 30/50\n",
            "290/290 [==============================] - 4s 14ms/step - loss: 0.0711 - val_loss: 0.0918\n",
            "Epoch 31/50\n",
            "290/290 [==============================] - 5s 17ms/step - loss: 0.0701 - val_loss: 0.0790\n",
            "Epoch 32/50\n",
            "290/290 [==============================] - 4s 14ms/step - loss: 0.0717 - val_loss: 0.0793\n",
            "Epoch 33/50\n",
            "290/290 [==============================] - 4s 14ms/step - loss: 0.0704 - val_loss: 0.0828\n",
            "Epoch 34/50\n",
            "290/290 [==============================] - 4s 15ms/step - loss: 0.0692 - val_loss: 0.0860\n",
            "Epoch 35/50\n",
            "290/290 [==============================] - 4s 14ms/step - loss: 0.0683 - val_loss: 0.0826\n",
            "Epoch 36/50\n",
            "290/290 [==============================] - 4s 14ms/step - loss: 0.0691 - val_loss: 0.0869\n",
            "Epoch 37/50\n",
            "290/290 [==============================] - 4s 15ms/step - loss: 0.0682 - val_loss: 0.0832\n",
            "Epoch 38/50\n",
            "290/290 [==============================] - 4s 14ms/step - loss: 0.0678 - val_loss: 0.0990\n",
            "Epoch 39/50\n",
            "290/290 [==============================] - 4s 14ms/step - loss: 0.0659 - val_loss: 0.0909\n",
            "Epoch 40/50\n",
            "290/290 [==============================] - 4s 15ms/step - loss: 0.0674 - val_loss: 0.0901\n",
            "Epoch 41/50\n",
            "290/290 [==============================] - 4s 15ms/step - loss: 0.0675 - val_loss: 0.0849\n",
            "Epoch 42/50\n",
            "290/290 [==============================] - 4s 14ms/step - loss: 0.0669 - val_loss: 0.0829\n",
            "Epoch 43/50\n",
            "290/290 [==============================] - 4s 14ms/step - loss: 0.0669 - val_loss: 0.0847\n",
            "Epoch 44/50\n",
            "290/290 [==============================] - 4s 15ms/step - loss: 0.0659 - val_loss: 0.0863\n",
            "Epoch 45/50\n",
            "290/290 [==============================] - 4s 14ms/step - loss: 0.0657 - val_loss: 0.0855\n",
            "Epoch 46/50\n",
            "290/290 [==============================] - 4s 14ms/step - loss: 0.0650 - val_loss: 0.0933\n",
            "Epoch 47/50\n",
            "290/290 [==============================] - 4s 15ms/step - loss: 0.0647 - val_loss: 0.0911\n",
            "Epoch 48/50\n",
            "290/290 [==============================] - 4s 14ms/step - loss: 0.0656 - val_loss: 0.0923\n",
            "Epoch 49/50\n",
            "290/290 [==============================] - 4s 14ms/step - loss: 0.0646 - val_loss: 0.0904\n",
            "Epoch 50/50\n",
            "290/290 [==============================] - 5s 16ms/step - loss: 0.0636 - val_loss: 0.0896\n"
          ]
        },
        {
          "output_type": "execute_result",
          "data": {
            "text/plain": [
              "<keras.src.callbacks.History at 0x7f6dab3907c0>"
            ]
          },
          "metadata": {},
          "execution_count": 56
        }
      ]
    },
    {
      "cell_type": "code",
      "source": [
        "scores = model_final_reg.evaluate([x_test_data, images_test], y_reg_test, verbose=0)\n",
        "print('Loss: %.3f' % scores)"
      ],
      "metadata": {
        "colab": {
          "base_uri": "https://localhost:8080/"
        },
        "id": "Bsg47zab1Q7s",
        "outputId": "b94e07e3-b60e-4a79-ce11-c1f16052bbd1"
      },
      "execution_count": 58,
      "outputs": [
        {
          "output_type": "stream",
          "name": "stdout",
          "text": [
            "Loss: 0.086\n"
          ]
        }
      ]
    },
    {
      "cell_type": "markdown",
      "source": [
        "En el modelo se aprecia una disminución gradual de loss lo que indica que el aprendizaje es efectivo. Pero se observa una brecha entre loss y val_loss. La pérdida en test es aceptable pero podría mejorarse."
      ],
      "metadata": {
        "id": "0Mm0Rb-62A41"
      }
    },
    {
      "cell_type": "markdown",
      "source": [
        "## MODELO DE CLASIFICACIÓN"
      ],
      "metadata": {
        "id": "41l4XGlv3KgY"
      }
    },
    {
      "cell_type": "markdown",
      "source": [
        "# Modelo clasificación con datos numéricos"
      ],
      "metadata": {
        "id": "Lxng6xTJMb6h"
      }
    },
    {
      "cell_type": "markdown",
      "source": [
        "Modelo de clasificador de datos tabulares con cuatro capas densas, se utiliza la función de pérdida de crossentropy para la optimización durante el entrenamiento."
      ],
      "metadata": {
        "id": "H60m3nRM3Nu1"
      }
    },
    {
      "cell_type": "code",
      "source": [
        "from tensorflow.keras.models import Sequential\n",
        "from tensorflow.keras.layers import Dense"
      ],
      "metadata": {
        "id": "DEQlDUOl4D0s"
      },
      "execution_count": 68,
      "outputs": []
    },
    {
      "cell_type": "code",
      "source": [
        "model_class_1 = Sequential(name=\"Clasificador_datos_tabulares\")\n",
        "model_class_1 .add(Dense(16, input_shape=(21,), activation='relu'))\n",
        "model_class_1 .add(Dense(8, activation='relu'))\n",
        "model_class_1 .add(Dense(4, activation='relu'))\n",
        "model_class_1 .add(Dense(3, activation='softmax'))"
      ],
      "metadata": {
        "id": "puPs5n-T4Its"
      },
      "execution_count": 69,
      "outputs": []
    },
    {
      "cell_type": "code",
      "source": [
        "model_class_1.compile(loss='categorical_crossentropy', optimizer='adam', metrics=['accuracy'])"
      ],
      "metadata": {
        "id": "iQwvtEf14aIF"
      },
      "execution_count": 70,
      "outputs": []
    },
    {
      "cell_type": "code",
      "source": [
        "history1 = model_class_1.fit(x=x_train_data, y=y_class_train, batch_size=32, epochs=10, validation_data=(x_validation_data, y_class_validation))\n"
      ],
      "metadata": {
        "colab": {
          "base_uri": "https://localhost:8080/"
        },
        "id": "xvEF71zz5N4V",
        "outputId": "bc2223f5-0892-4dd7-d6a7-446a3b6d6183"
      },
      "execution_count": 72,
      "outputs": [
        {
          "output_type": "stream",
          "name": "stdout",
          "text": [
            "Epoch 1/10\n",
            "73/73 [==============================] - 0s 4ms/step - loss: 1.0407 - accuracy: 0.4635 - val_loss: 1.0578 - val_accuracy: 0.4555\n",
            "Epoch 2/10\n",
            "73/73 [==============================] - 0s 4ms/step - loss: 1.0402 - accuracy: 0.4635 - val_loss: 1.0609 - val_accuracy: 0.4555\n",
            "Epoch 3/10\n",
            "73/73 [==============================] - 0s 4ms/step - loss: 1.0420 - accuracy: 0.4635 - val_loss: 1.0542 - val_accuracy: 0.4555\n",
            "Epoch 4/10\n",
            "73/73 [==============================] - 0s 4ms/step - loss: 1.0397 - accuracy: 0.4635 - val_loss: 1.0567 - val_accuracy: 0.4555\n",
            "Epoch 5/10\n",
            "73/73 [==============================] - 0s 4ms/step - loss: 1.0386 - accuracy: 0.4635 - val_loss: 1.0577 - val_accuracy: 0.4555\n",
            "Epoch 6/10\n",
            "73/73 [==============================] - 0s 4ms/step - loss: 1.0382 - accuracy: 0.4635 - val_loss: 1.0506 - val_accuracy: 0.4542\n",
            "Epoch 7/10\n",
            "73/73 [==============================] - 0s 4ms/step - loss: 1.0300 - accuracy: 0.4635 - val_loss: 1.0630 - val_accuracy: 0.4542\n",
            "Epoch 8/10\n",
            "73/73 [==============================] - 0s 4ms/step - loss: 1.0198 - accuracy: 0.4635 - val_loss: 1.1069 - val_accuracy: 0.4542\n",
            "Epoch 9/10\n",
            "73/73 [==============================] - 0s 4ms/step - loss: 1.0211 - accuracy: 0.4631 - val_loss: 1.0480 - val_accuracy: 0.4555\n",
            "Epoch 10/10\n",
            "73/73 [==============================] - 0s 5ms/step - loss: 1.0191 - accuracy: 0.4635 - val_loss: 1.0309 - val_accuracy: 0.4555\n"
          ]
        }
      ]
    },
    {
      "cell_type": "code",
      "source": [
        "test_loss, test_accuracy = model_class_1.evaluate(x_test_data, y_class_test, verbose=1)\n",
        "print(\"Test Loss:\", test_loss)\n",
        "print(\"Test Accuracy:\", test_accuracy)"
      ],
      "metadata": {
        "colab": {
          "base_uri": "https://localhost:8080/"
        },
        "id": "H-nlyI-H55cm",
        "outputId": "d3d94e4c-50db-4463-fa0f-7bef51924a98"
      },
      "execution_count": 73,
      "outputs": [
        {
          "output_type": "stream",
          "name": "stdout",
          "text": [
            "48/48 [==============================] - 0s 3ms/step - loss: 1.0258 - accuracy: 0.4559\n",
            "Test Loss: 1.0258113145828247\n",
            "Test Accuracy: 0.45591115951538086\n"
          ]
        }
      ]
    },
    {
      "cell_type": "markdown",
      "source": [
        "El modelo entrenado no es capaz de capturar de manera efectiva los patrones en los datos para realizar una clasificación precisa, ya que tanto la precisión en el conjunto de validación como en el conjunto de prueba son relativamente bajas y no muestran signos de mejora significativa durante el entrenamiento."
      ],
      "metadata": {
        "id": "4RjPtVFK6TyM"
      }
    },
    {
      "cell_type": "markdown",
      "source": [
        "Se ajusta la arquitectura del modelo para incluir una capa adicional de 64 neuronas con una capa de regularización Dropout para reducir el sobreajuste. También se ajustan los hiperparámetros de entrenamiento Epochs y Batch_size."
      ],
      "metadata": {
        "id": "Z9-r9xY06ofO"
      }
    },
    {
      "cell_type": "code",
      "source": [
        "import tensorflow as tf\n",
        "from tensorflow.keras.models import Sequential\n",
        "from tensorflow.keras.layers import Dense, Dropout\n",
        "from sklearn.model_selection import train_test_split"
      ],
      "metadata": {
        "id": "NIaeToU87NwH"
      },
      "execution_count": 17,
      "outputs": []
    },
    {
      "cell_type": "code",
      "source": [
        "model_class_2 = Sequential(name=\"Clasificador_datos_tabulares\")\n",
        "model_class_2.add(Dense(64, input_shape=(x_train_data.shape[1],), activation='relu'))\n",
        "model_class_2.add(Dense(32, activation='relu'))\n",
        "model_class_2.add(Dropout(0.5))\n",
        "model_class_2.add(Dense(8, activation='relu'))\n",
        "model_class_2.add(Dense(4, activation='relu'))\n",
        "model_class_2.add(Dense(3, activation='softmax'))"
      ],
      "metadata": {
        "id": "7BNaYtwu7jfi"
      },
      "execution_count": 18,
      "outputs": []
    },
    {
      "cell_type": "code",
      "source": [
        "model_class_2.compile(loss='categorical_crossentropy', optimizer='adam', metrics=['accuracy'])"
      ],
      "metadata": {
        "id": "SlL56B7z8rWQ"
      },
      "execution_count": 19,
      "outputs": []
    },
    {
      "cell_type": "code",
      "source": [
        "history2 = model_class_2.fit(x=x_train_data,\n",
        "                            y=y_class_train,\n",
        "                            batch_size=32,\n",
        "                            epochs=50,\n",
        "                            validation_data=(x_validation_data, y_class_validation),\n",
        "                            verbose=1)"
      ],
      "metadata": {
        "colab": {
          "base_uri": "https://localhost:8080/"
        },
        "id": "EY5hIw3x8R1c",
        "outputId": "41c68af6-6421-491e-ab65-9caf6f798ce8"
      },
      "execution_count": 20,
      "outputs": [
        {
          "output_type": "stream",
          "name": "stdout",
          "text": [
            "Epoch 1/50\n",
            "73/73 [==============================] - 1s 4ms/step - loss: 16.8085 - accuracy: 0.3591 - val_loss: 1.1051 - val_accuracy: 0.2529\n",
            "Epoch 2/50\n",
            "73/73 [==============================] - 0s 3ms/step - loss: 1.5779 - accuracy: 0.3543 - val_loss: 1.0976 - val_accuracy: 0.2942\n",
            "Epoch 3/50\n",
            "73/73 [==============================] - 0s 3ms/step - loss: 1.1931 - accuracy: 0.4221 - val_loss: 1.0897 - val_accuracy: 0.4594\n",
            "Epoch 4/50\n",
            "73/73 [==============================] - 0s 3ms/step - loss: 1.1117 - accuracy: 0.4549 - val_loss: 1.0808 - val_accuracy: 0.4529\n",
            "Epoch 5/50\n",
            "73/73 [==============================] - 0s 3ms/step - loss: 1.1078 - accuracy: 0.4614 - val_loss: 1.0750 - val_accuracy: 0.4529\n",
            "Epoch 6/50\n",
            "73/73 [==============================] - 0s 3ms/step - loss: 1.0879 - accuracy: 0.4653 - val_loss: 1.0695 - val_accuracy: 0.4529\n",
            "Epoch 7/50\n",
            "73/73 [==============================] - 0s 2ms/step - loss: 1.0775 - accuracy: 0.4635 - val_loss: 1.0682 - val_accuracy: 0.4542\n",
            "Epoch 8/50\n",
            "73/73 [==============================] - 0s 3ms/step - loss: 1.0769 - accuracy: 0.4622 - val_loss: 1.0671 - val_accuracy: 0.4542\n",
            "Epoch 9/50\n",
            "73/73 [==============================] - 0s 3ms/step - loss: 1.0674 - accuracy: 0.4614 - val_loss: 1.0645 - val_accuracy: 0.4555\n",
            "Epoch 10/50\n",
            "73/73 [==============================] - 0s 3ms/step - loss: 1.0684 - accuracy: 0.4635 - val_loss: 1.0653 - val_accuracy: 0.4555\n",
            "Epoch 11/50\n",
            "73/73 [==============================] - 0s 2ms/step - loss: 1.0582 - accuracy: 0.4627 - val_loss: 1.0627 - val_accuracy: 0.4555\n",
            "Epoch 12/50\n",
            "73/73 [==============================] - 0s 2ms/step - loss: 1.0666 - accuracy: 0.4635 - val_loss: 1.0620 - val_accuracy: 0.4555\n",
            "Epoch 13/50\n",
            "73/73 [==============================] - 0s 2ms/step - loss: 1.0620 - accuracy: 0.4622 - val_loss: 1.0620 - val_accuracy: 0.4555\n",
            "Epoch 14/50\n",
            "73/73 [==============================] - 0s 3ms/step - loss: 1.0587 - accuracy: 0.4644 - val_loss: 1.0612 - val_accuracy: 0.4542\n",
            "Epoch 15/50\n",
            "73/73 [==============================] - 0s 2ms/step - loss: 1.0575 - accuracy: 0.4614 - val_loss: 1.0610 - val_accuracy: 0.4555\n",
            "Epoch 16/50\n",
            "73/73 [==============================] - 0s 2ms/step - loss: 1.0557 - accuracy: 0.4627 - val_loss: 1.0599 - val_accuracy: 0.4555\n",
            "Epoch 17/50\n",
            "73/73 [==============================] - 0s 2ms/step - loss: 1.0552 - accuracy: 0.4648 - val_loss: 1.0605 - val_accuracy: 0.4555\n",
            "Epoch 18/50\n",
            "73/73 [==============================] - 0s 2ms/step - loss: 1.0540 - accuracy: 0.4614 - val_loss: 1.0607 - val_accuracy: 0.4555\n",
            "Epoch 19/50\n",
            "73/73 [==============================] - 0s 2ms/step - loss: 1.0557 - accuracy: 0.4618 - val_loss: 1.0616 - val_accuracy: 0.4555\n",
            "Epoch 20/50\n",
            "73/73 [==============================] - 0s 2ms/step - loss: 1.0523 - accuracy: 0.4635 - val_loss: 1.0576 - val_accuracy: 0.4555\n",
            "Epoch 21/50\n",
            "73/73 [==============================] - 0s 3ms/step - loss: 1.0538 - accuracy: 0.4635 - val_loss: 1.0551 - val_accuracy: 0.4555\n",
            "Epoch 22/50\n",
            "73/73 [==============================] - 0s 2ms/step - loss: 1.0550 - accuracy: 0.4635 - val_loss: 1.0586 - val_accuracy: 0.4555\n",
            "Epoch 23/50\n",
            "73/73 [==============================] - 0s 2ms/step - loss: 1.0506 - accuracy: 0.4635 - val_loss: 1.0573 - val_accuracy: 0.4555\n",
            "Epoch 24/50\n",
            "73/73 [==============================] - 0s 2ms/step - loss: 1.0503 - accuracy: 0.4635 - val_loss: 1.0573 - val_accuracy: 0.4555\n",
            "Epoch 25/50\n",
            "73/73 [==============================] - 0s 2ms/step - loss: 1.0494 - accuracy: 0.4631 - val_loss: 1.0575 - val_accuracy: 0.4555\n",
            "Epoch 26/50\n",
            "73/73 [==============================] - 0s 2ms/step - loss: 1.0490 - accuracy: 0.4618 - val_loss: 1.0549 - val_accuracy: 0.4555\n",
            "Epoch 27/50\n",
            "73/73 [==============================] - 0s 2ms/step - loss: 1.0525 - accuracy: 0.4627 - val_loss: 1.0547 - val_accuracy: 0.4555\n",
            "Epoch 28/50\n",
            "73/73 [==============================] - 0s 2ms/step - loss: 1.0589 - accuracy: 0.4627 - val_loss: 1.0620 - val_accuracy: 0.4555\n",
            "Epoch 29/50\n",
            "73/73 [==============================] - 0s 2ms/step - loss: 1.0613 - accuracy: 0.4640 - val_loss: 1.0651 - val_accuracy: 0.4555\n",
            "Epoch 30/50\n",
            "73/73 [==============================] - 0s 2ms/step - loss: 1.0589 - accuracy: 0.4635 - val_loss: 1.0650 - val_accuracy: 0.4555\n",
            "Epoch 31/50\n",
            "73/73 [==============================] - 0s 2ms/step - loss: 1.0608 - accuracy: 0.4618 - val_loss: 1.0654 - val_accuracy: 0.4555\n",
            "Epoch 32/50\n",
            "73/73 [==============================] - 0s 3ms/step - loss: 1.0594 - accuracy: 0.4635 - val_loss: 1.0655 - val_accuracy: 0.4555\n",
            "Epoch 33/50\n",
            "73/73 [==============================] - 0s 2ms/step - loss: 1.0588 - accuracy: 0.4635 - val_loss: 1.0648 - val_accuracy: 0.4555\n",
            "Epoch 34/50\n",
            "73/73 [==============================] - 0s 2ms/step - loss: 1.0584 - accuracy: 0.4644 - val_loss: 1.0649 - val_accuracy: 0.4555\n",
            "Epoch 35/50\n",
            "73/73 [==============================] - 0s 2ms/step - loss: 1.0567 - accuracy: 0.4661 - val_loss: 1.0651 - val_accuracy: 0.4555\n",
            "Epoch 36/50\n",
            "73/73 [==============================] - 0s 2ms/step - loss: 1.0587 - accuracy: 0.4609 - val_loss: 1.0620 - val_accuracy: 0.4555\n",
            "Epoch 37/50\n",
            "73/73 [==============================] - 0s 2ms/step - loss: 1.0499 - accuracy: 0.4648 - val_loss: 1.0576 - val_accuracy: 0.4555\n",
            "Epoch 38/50\n",
            "73/73 [==============================] - 0s 3ms/step - loss: 1.0523 - accuracy: 0.4674 - val_loss: 1.0527 - val_accuracy: 0.4568\n",
            "Epoch 39/50\n",
            "73/73 [==============================] - 0s 2ms/step - loss: 1.0509 - accuracy: 0.4631 - val_loss: 1.0519 - val_accuracy: 0.4555\n",
            "Epoch 40/50\n",
            "73/73 [==============================] - 0s 2ms/step - loss: 1.0517 - accuracy: 0.4700 - val_loss: 1.0564 - val_accuracy: 0.4619\n",
            "Epoch 41/50\n",
            "73/73 [==============================] - 0s 2ms/step - loss: 1.0393 - accuracy: 0.4709 - val_loss: 1.0478 - val_accuracy: 0.4632\n",
            "Epoch 42/50\n",
            "73/73 [==============================] - 0s 2ms/step - loss: 1.0399 - accuracy: 0.4730 - val_loss: 1.0367 - val_accuracy: 0.4619\n",
            "Epoch 43/50\n",
            "73/73 [==============================] - 0s 2ms/step - loss: 1.0372 - accuracy: 0.4769 - val_loss: 1.0342 - val_accuracy: 0.4645\n",
            "Epoch 44/50\n",
            "73/73 [==============================] - 0s 2ms/step - loss: 1.0417 - accuracy: 0.4765 - val_loss: 1.0415 - val_accuracy: 0.4581\n",
            "Epoch 45/50\n",
            "73/73 [==============================] - 0s 2ms/step - loss: 1.0321 - accuracy: 0.4756 - val_loss: 1.0826 - val_accuracy: 0.4671\n",
            "Epoch 46/50\n",
            "73/73 [==============================] - 0s 2ms/step - loss: 1.0419 - accuracy: 0.4786 - val_loss: 1.0608 - val_accuracy: 0.4632\n",
            "Epoch 47/50\n",
            "73/73 [==============================] - 0s 2ms/step - loss: 1.0486 - accuracy: 0.4752 - val_loss: 1.0618 - val_accuracy: 0.4606\n",
            "Epoch 48/50\n",
            "73/73 [==============================] - 0s 3ms/step - loss: 1.0444 - accuracy: 0.4830 - val_loss: 1.0586 - val_accuracy: 0.4632\n",
            "Epoch 49/50\n",
            "73/73 [==============================] - 0s 2ms/step - loss: 1.0458 - accuracy: 0.4786 - val_loss: 1.0564 - val_accuracy: 0.4619\n",
            "Epoch 50/50\n",
            "73/73 [==============================] - 0s 2ms/step - loss: 1.0307 - accuracy: 0.4851 - val_loss: 1.0447 - val_accuracy: 0.4645\n"
          ]
        }
      ]
    },
    {
      "cell_type": "code",
      "source": [
        "test_loss, test_accuracy = model_class_2.evaluate(x_test_data, y_class_test)\n",
        "print(\"Test Loss:\", test_loss)\n",
        "print(\"Test Accuracy:\", test_accuracy)"
      ],
      "metadata": {
        "colab": {
          "base_uri": "https://localhost:8080/"
        },
        "id": "jIRCXunI9SrB",
        "outputId": "1ff160d3-b55b-4eef-b229-0583e474bd46"
      },
      "execution_count": 21,
      "outputs": [
        {
          "output_type": "stream",
          "name": "stdout",
          "text": [
            "48/48 [==============================] - 0s 974us/step - loss: 1.0412 - accuracy: 0.4637\n",
            "Test Loss: 1.0411802530288696\n",
            "Test Accuracy: 0.4637491703033447\n"
          ]
        }
      ]
    },
    {
      "cell_type": "markdown",
      "source": [
        "No han resultado las mejoras que se han realizado. Se prueba una regularización L2."
      ],
      "metadata": {
        "id": "GSoAYR359sg_"
      }
    },
    {
      "cell_type": "code",
      "source": [
        "from keras.regularizers import l2"
      ],
      "metadata": {
        "id": "7sNIHlqkChrv"
      },
      "execution_count": 22,
      "outputs": []
    },
    {
      "cell_type": "code",
      "source": [
        "model_class_3 = Sequential(name=\"Clasificador_datos_tabulares\")\n",
        "model_class_3.add(Dense(16, activation='relu', kernel_regularizer=l2(0.01), input_shape=(21,)))\n",
        "model_class_3.add(Dense(8, activation='relu', kernel_regularizer=l2(0.01)))\n",
        "model_class_3.add(Dense(4, activation='relu', kernel_regularizer=l2(0.01)))\n",
        "model_class_3.add(Dense(3, activation='softmax'))"
      ],
      "metadata": {
        "id": "zJeNjCJECudd"
      },
      "execution_count": 95,
      "outputs": []
    },
    {
      "cell_type": "code",
      "source": [
        "model_class_3.compile(optimizer='adam', loss='categorical_crossentropy', metrics=['accuracy'])"
      ],
      "metadata": {
        "id": "PKkg5BCgC3Ku"
      },
      "execution_count": 26,
      "outputs": []
    },
    {
      "cell_type": "code",
      "source": [
        "model_class_3.fit(x_train_data, y_class_train, epochs=50, batch_size=32, validation_data=(x_validation_data, y_class_validation))"
      ],
      "metadata": {
        "colab": {
          "base_uri": "https://localhost:8080/"
        },
        "id": "XqWlxp5FC8wC",
        "outputId": "2178bbed-c70c-4258-ce5a-e74544458b0b"
      },
      "execution_count": 27,
      "outputs": [
        {
          "output_type": "stream",
          "name": "stdout",
          "text": [
            "Epoch 1/50\n",
            "73/73 [==============================] - 1s 4ms/step - loss: 16.3356 - accuracy: 0.3815 - val_loss: 6.5751 - val_accuracy: 0.3768\n",
            "Epoch 2/50\n",
            "73/73 [==============================] - 0s 2ms/step - loss: 2.6932 - accuracy: 0.4342 - val_loss: 2.0259 - val_accuracy: 0.4826\n",
            "Epoch 3/50\n",
            "73/73 [==============================] - 0s 2ms/step - loss: 1.5966 - accuracy: 0.4661 - val_loss: 1.5024 - val_accuracy: 0.4684\n",
            "Epoch 4/50\n",
            "73/73 [==============================] - 0s 2ms/step - loss: 1.4302 - accuracy: 0.4627 - val_loss: 1.4195 - val_accuracy: 0.4555\n",
            "Epoch 5/50\n",
            "73/73 [==============================] - 0s 2ms/step - loss: 1.3816 - accuracy: 0.4657 - val_loss: 1.3650 - val_accuracy: 0.4555\n",
            "Epoch 6/50\n",
            "73/73 [==============================] - 0s 2ms/step - loss: 1.3520 - accuracy: 0.4661 - val_loss: 1.3305 - val_accuracy: 0.4568\n",
            "Epoch 7/50\n",
            "73/73 [==============================] - 0s 2ms/step - loss: 1.3326 - accuracy: 0.4657 - val_loss: 1.3099 - val_accuracy: 0.4581\n",
            "Epoch 8/50\n",
            "73/73 [==============================] - 0s 2ms/step - loss: 1.3179 - accuracy: 0.4657 - val_loss: 1.2958 - val_accuracy: 0.4581\n",
            "Epoch 9/50\n",
            "73/73 [==============================] - 0s 2ms/step - loss: 1.3045 - accuracy: 0.4653 - val_loss: 1.2861 - val_accuracy: 0.4581\n",
            "Epoch 10/50\n",
            "73/73 [==============================] - 0s 2ms/step - loss: 1.2904 - accuracy: 0.4657 - val_loss: 1.2796 - val_accuracy: 0.4555\n",
            "Epoch 11/50\n",
            "73/73 [==============================] - 0s 2ms/step - loss: 1.2791 - accuracy: 0.4644 - val_loss: 1.2726 - val_accuracy: 0.4555\n",
            "Epoch 12/50\n",
            "73/73 [==============================] - 0s 2ms/step - loss: 1.2706 - accuracy: 0.4653 - val_loss: 1.2668 - val_accuracy: 0.4555\n",
            "Epoch 13/50\n",
            "73/73 [==============================] - 0s 2ms/step - loss: 1.2638 - accuracy: 0.4653 - val_loss: 1.2614 - val_accuracy: 0.4555\n",
            "Epoch 14/50\n",
            "73/73 [==============================] - 0s 2ms/step - loss: 1.2590 - accuracy: 0.4648 - val_loss: 1.2547 - val_accuracy: 0.4568\n",
            "Epoch 15/50\n",
            "73/73 [==============================] - 0s 2ms/step - loss: 1.2508 - accuracy: 0.4653 - val_loss: 1.4870 - val_accuracy: 0.4555\n",
            "Epoch 16/50\n",
            "73/73 [==============================] - 0s 2ms/step - loss: 1.2462 - accuracy: 0.4683 - val_loss: 1.3374 - val_accuracy: 0.4555\n",
            "Epoch 17/50\n",
            "73/73 [==============================] - 0s 2ms/step - loss: 1.2401 - accuracy: 0.4640 - val_loss: 1.2421 - val_accuracy: 0.4555\n",
            "Epoch 18/50\n",
            "73/73 [==============================] - 0s 2ms/step - loss: 1.2380 - accuracy: 0.4670 - val_loss: 1.2397 - val_accuracy: 0.4542\n",
            "Epoch 19/50\n",
            "73/73 [==============================] - 0s 2ms/step - loss: 1.2311 - accuracy: 0.4640 - val_loss: 1.2354 - val_accuracy: 0.4542\n",
            "Epoch 20/50\n",
            "73/73 [==============================] - 0s 2ms/step - loss: 1.2284 - accuracy: 0.4648 - val_loss: 1.2327 - val_accuracy: 0.4542\n",
            "Epoch 21/50\n",
            "73/73 [==============================] - 0s 2ms/step - loss: 1.2231 - accuracy: 0.4653 - val_loss: 1.2289 - val_accuracy: 0.4542\n",
            "Epoch 22/50\n",
            "73/73 [==============================] - 0s 2ms/step - loss: 1.2198 - accuracy: 0.4653 - val_loss: 1.2247 - val_accuracy: 0.4555\n",
            "Epoch 23/50\n",
            "73/73 [==============================] - 0s 2ms/step - loss: 1.2154 - accuracy: 0.4653 - val_loss: 1.2214 - val_accuracy: 0.4555\n",
            "Epoch 24/50\n",
            "73/73 [==============================] - 0s 2ms/step - loss: 1.2121 - accuracy: 0.4657 - val_loss: 1.2188 - val_accuracy: 0.4542\n",
            "Epoch 25/50\n",
            "73/73 [==============================] - 0s 2ms/step - loss: 1.2090 - accuracy: 0.4657 - val_loss: 1.2157 - val_accuracy: 0.4542\n",
            "Epoch 26/50\n",
            "73/73 [==============================] - 0s 2ms/step - loss: 1.2062 - accuracy: 0.4653 - val_loss: 1.2126 - val_accuracy: 0.4542\n",
            "Epoch 27/50\n",
            "73/73 [==============================] - 0s 2ms/step - loss: 1.2036 - accuracy: 0.4657 - val_loss: 1.2103 - val_accuracy: 0.4542\n",
            "Epoch 28/50\n",
            "73/73 [==============================] - 0s 2ms/step - loss: 1.2008 - accuracy: 0.4657 - val_loss: 1.2082 - val_accuracy: 0.4542\n",
            "Epoch 29/50\n",
            "73/73 [==============================] - 0s 2ms/step - loss: 1.1984 - accuracy: 0.4653 - val_loss: 1.2059 - val_accuracy: 0.4542\n",
            "Epoch 30/50\n",
            "73/73 [==============================] - 0s 2ms/step - loss: 1.1957 - accuracy: 0.4653 - val_loss: 1.2027 - val_accuracy: 0.4542\n",
            "Epoch 31/50\n",
            "73/73 [==============================] - 0s 2ms/step - loss: 1.1939 - accuracy: 0.4653 - val_loss: 1.2004 - val_accuracy: 0.4542\n",
            "Epoch 32/50\n",
            "73/73 [==============================] - 0s 2ms/step - loss: 1.1917 - accuracy: 0.4653 - val_loss: 1.1988 - val_accuracy: 0.4542\n",
            "Epoch 33/50\n",
            "73/73 [==============================] - 0s 2ms/step - loss: 1.1898 - accuracy: 0.4653 - val_loss: 1.1973 - val_accuracy: 0.4555\n",
            "Epoch 34/50\n",
            "73/73 [==============================] - 0s 2ms/step - loss: 1.1872 - accuracy: 0.4653 - val_loss: 1.1954 - val_accuracy: 0.4542\n",
            "Epoch 35/50\n",
            "73/73 [==============================] - 0s 2ms/step - loss: 1.1851 - accuracy: 0.4653 - val_loss: 1.1931 - val_accuracy: 0.4542\n",
            "Epoch 36/50\n",
            "73/73 [==============================] - 0s 2ms/step - loss: 1.1831 - accuracy: 0.4653 - val_loss: 1.1902 - val_accuracy: 0.4542\n",
            "Epoch 37/50\n",
            "73/73 [==============================] - 0s 2ms/step - loss: 1.1808 - accuracy: 0.4653 - val_loss: 1.1879 - val_accuracy: 0.4555\n",
            "Epoch 38/50\n",
            "73/73 [==============================] - 0s 2ms/step - loss: 1.1788 - accuracy: 0.4648 - val_loss: 1.1863 - val_accuracy: 0.4568\n",
            "Epoch 39/50\n",
            "73/73 [==============================] - 0s 2ms/step - loss: 1.1764 - accuracy: 0.4661 - val_loss: 1.1817 - val_accuracy: 0.4606\n",
            "Epoch 40/50\n",
            "73/73 [==============================] - 0s 2ms/step - loss: 1.1748 - accuracy: 0.4666 - val_loss: 1.1801 - val_accuracy: 0.4594\n",
            "Epoch 41/50\n",
            "73/73 [==============================] - 0s 2ms/step - loss: 1.1727 - accuracy: 0.4683 - val_loss: 1.1788 - val_accuracy: 0.4594\n",
            "Epoch 42/50\n",
            "73/73 [==============================] - 0s 2ms/step - loss: 1.1715 - accuracy: 0.4674 - val_loss: 1.1787 - val_accuracy: 0.4555\n",
            "Epoch 43/50\n",
            "73/73 [==============================] - 0s 3ms/step - loss: 1.1686 - accuracy: 0.4691 - val_loss: 1.1769 - val_accuracy: 0.4568\n",
            "Epoch 44/50\n",
            "73/73 [==============================] - 0s 3ms/step - loss: 1.1668 - accuracy: 0.4704 - val_loss: 1.1765 - val_accuracy: 0.4581\n",
            "Epoch 45/50\n",
            "73/73 [==============================] - 0s 3ms/step - loss: 1.1653 - accuracy: 0.4700 - val_loss: 1.1717 - val_accuracy: 0.4632\n",
            "Epoch 46/50\n",
            "73/73 [==============================] - 0s 3ms/step - loss: 1.1635 - accuracy: 0.4713 - val_loss: 1.1728 - val_accuracy: 0.4581\n",
            "Epoch 47/50\n",
            "73/73 [==============================] - 0s 2ms/step - loss: 1.1634 - accuracy: 0.4700 - val_loss: 1.1698 - val_accuracy: 0.4581\n",
            "Epoch 48/50\n",
            "73/73 [==============================] - 0s 2ms/step - loss: 1.1606 - accuracy: 0.4713 - val_loss: 1.1693 - val_accuracy: 0.4581\n",
            "Epoch 49/50\n",
            "73/73 [==============================] - 0s 2ms/step - loss: 1.1588 - accuracy: 0.4709 - val_loss: 1.1676 - val_accuracy: 0.4594\n",
            "Epoch 50/50\n",
            "73/73 [==============================] - 0s 3ms/step - loss: 1.1570 - accuracy: 0.4704 - val_loss: 1.1663 - val_accuracy: 0.4594\n"
          ]
        },
        {
          "output_type": "execute_result",
          "data": {
            "text/plain": [
              "<keras.src.callbacks.History at 0x7f38534d1450>"
            ]
          },
          "metadata": {},
          "execution_count": 27
        }
      ]
    },
    {
      "cell_type": "code",
      "source": [
        "test_loss, test_accuracy = model_class_3.evaluate(x_test_data, y_class_test)\n",
        "\n",
        "print(\"Test Loss:\", test_loss)\n",
        "print(\"Test Accuracy:\", test_accuracy)"
      ],
      "metadata": {
        "colab": {
          "base_uri": "https://localhost:8080/"
        },
        "id": "EFrd2GydDF8s",
        "outputId": "ea3472be-61e7-4674-e38e-43d858835fc8"
      },
      "execution_count": 28,
      "outputs": [
        {
          "output_type": "stream",
          "name": "stdout",
          "text": [
            "48/48 [==============================] - 0s 937us/step - loss: 1.1633 - accuracy: 0.4611\n",
            "Test Loss: 1.1633301973342896\n",
            "Test Accuracy: 0.46113651990890503\n"
          ]
        }
      ]
    },
    {
      "cell_type": "markdown",
      "source": [
        "Parece que mejora gradualmente con el tiempo, lo que indica que el modelo esta aprendiendo de manera efectiva y no esta sobreajustado. Pero en el caso de los datos test indica que el modelo pordria optimizarse para una mejor generalización."
      ],
      "metadata": {
        "id": "VqzxoETQDfsz"
      }
    },
    {
      "cell_type": "markdown",
      "source": [
        "# Modelo clasificación con imágenes\n"
      ],
      "metadata": {
        "id": "n6K5uGGLEQVQ"
      }
    },
    {
      "cell_type": "markdown",
      "source": [
        "Se va a implementar un modelo de red neuronal convolucional (CNN) utilizando la arquitectura VGG16preentrenada en el conjunto de datos ImageNet para la clasificación de imágenes. Se cargan los pesos entrenados excluyendo la capa superior (full connected) para adaptarla al problema. Se agregan capas adicionales, icluyendo una capa de aplanado (Flatten) seguido de capas densas (Full connected) con ativación ReLu y una capa de Dropout para la regularización utilizando finalmente softmax para la clasificación multiclase. Como optimizado se usa Adam con un learning_rate= 0.001."
      ],
      "metadata": {
        "id": "cy5vizBMMyP6"
      }
    },
    {
      "cell_type": "code",
      "source": [
        "from tensorflow.keras.applications import VGG16\n",
        "from keras.models import Sequential\n",
        "from tensorflow.keras.layers import Dense, Flatten, Dropout\n",
        "from tensorflow.keras.optimizers import Adam"
      ],
      "metadata": {
        "id": "4BHh4vmcMxds"
      },
      "execution_count": 25,
      "outputs": []
    },
    {
      "cell_type": "code",
      "source": [
        "model_VGG = VGG16(weights='imagenet', include_top=False, input_shape=(224, 224, 3))"
      ],
      "metadata": {
        "id": "ihu0lpBJQVdY"
      },
      "execution_count": 27,
      "outputs": []
    },
    {
      "cell_type": "code",
      "source": [
        "model_img = Sequential()\n",
        "model_img.add(model_VGG)\n",
        "model_img.add(Flatten())\n",
        "model_img.add(Dense(224, activation='relu'))\n",
        "model_img.add(Dropout(0.5))\n",
        "model_img.add(Dense(3, activation='softmax'))"
      ],
      "metadata": {
        "id": "-VWgweYjhcvo"
      },
      "execution_count": 33,
      "outputs": []
    },
    {
      "cell_type": "code",
      "source": [
        "for layer in model_VGG.layers:\n",
        "    layer.trainable = False"
      ],
      "metadata": {
        "id": "yHoLg74SQyr4"
      },
      "execution_count": 34,
      "outputs": []
    },
    {
      "cell_type": "code",
      "source": [
        "model_img.compile(optimizer=Adam(learning_rate=0.001), loss='categorical_crossentropy', metrics=['accuracy'])"
      ],
      "metadata": {
        "id": "mb_l5cygRFV6"
      },
      "execution_count": 36,
      "outputs": []
    },
    {
      "cell_type": "code",
      "source": [
        "history_img = model_img.fit(images_train, y_class_train, epochs=10, batch_size=32, validation_data=(images_validation, y_class_validation))"
      ],
      "metadata": {
        "colab": {
          "base_uri": "https://localhost:8080/"
        },
        "id": "gqeJPC-pZRh0",
        "outputId": "3ee671ec-2aba-4f22-b1d1-6659de12f37d"
      },
      "execution_count": 37,
      "outputs": [
        {
          "output_type": "stream",
          "name": "stdout",
          "text": [
            "Epoch 1/10\n",
            "73/73 [==============================] - 13s 169ms/step - loss: 7.8853 - accuracy: 0.4445 - val_loss: 1.0952 - val_accuracy: 0.5071\n",
            "Epoch 2/10\n",
            "73/73 [==============================] - 13s 185ms/step - loss: 1.0298 - accuracy: 0.5757 - val_loss: 1.0856 - val_accuracy: 0.4632\n",
            "Epoch 3/10\n",
            "73/73 [==============================] - 14s 187ms/step - loss: 0.9358 - accuracy: 0.5999 - val_loss: 1.0772 - val_accuracy: 0.4671\n",
            "Epoch 4/10\n",
            "73/73 [==============================] - 11s 156ms/step - loss: 0.8956 - accuracy: 0.6081 - val_loss: 1.0737 - val_accuracy: 0.4555\n",
            "Epoch 5/10\n",
            "73/73 [==============================] - 11s 156ms/step - loss: 0.8869 - accuracy: 0.6262 - val_loss: 1.0757 - val_accuracy: 0.4735\n",
            "Epoch 6/10\n",
            "73/73 [==============================] - 14s 188ms/step - loss: 0.7798 - accuracy: 0.6323 - val_loss: 1.0818 - val_accuracy: 0.4826\n",
            "Epoch 7/10\n",
            "73/73 [==============================] - 14s 188ms/step - loss: 0.7705 - accuracy: 0.6323 - val_loss: 1.0790 - val_accuracy: 0.4632\n",
            "Epoch 8/10\n",
            "73/73 [==============================] - 12s 158ms/step - loss: 0.7224 - accuracy: 0.6353 - val_loss: 1.0629 - val_accuracy: 0.4619\n",
            "Epoch 9/10\n",
            "73/73 [==============================] - 14s 189ms/step - loss: 0.6901 - accuracy: 0.6474 - val_loss: 1.0670 - val_accuracy: 0.4555\n",
            "Epoch 10/10\n",
            "73/73 [==============================] - 12s 159ms/step - loss: 0.6596 - accuracy: 0.6582 - val_loss: 1.0698 - val_accuracy: 0.4684\n"
          ]
        }
      ]
    },
    {
      "cell_type": "code",
      "source": [
        "test_loss, test_accuracy = model_img.evaluate(images_test, y_class_test)\n",
        "print(\"Test Loss:\", test_loss)\n",
        "print(\"Test Accuracy:\", test_accuracy)"
      ],
      "metadata": {
        "colab": {
          "base_uri": "https://localhost:8080/"
        },
        "id": "mmZ6kJn2c07W",
        "outputId": "ac64a1e4-faa4-45d9-c000-10997e32c376"
      },
      "execution_count": 38,
      "outputs": [
        {
          "output_type": "stream",
          "name": "stdout",
          "text": [
            "48/48 [==============================] - 6s 120ms/step - loss: 1.0661 - accuracy: 0.4820\n",
            "Test Loss: 1.0661242008209229\n",
            "Test Accuracy: 0.48203787207603455\n"
          ]
        }
      ]
    },
    {
      "cell_type": "markdown",
      "source": [
        "El modelo parece que esta aprendiendo de manera efectiva durante las primeras épocas, pero hay un punto en donde se estabiliza y no hay mejoras significativas, aunque tienen una precisión razonable en los datos de test, se podrian realizar algun ajuste."
      ],
      "metadata": {
        "id": "A_VYyI2SkJlX"
      }
    },
    {
      "cell_type": "markdown",
      "source": [
        "Se prueba el modelo ResNet50 para mitigar el problema de la desaparición del gradiente mediante conexiones residuales a ver si da mejores resultados. Se van a agregar capas adicionale, incluyendo una capa de agrupación máxima (MaxPoling2D), una convolucional con activación ReLu y regularización L2."
      ],
      "metadata": {
        "id": "OFXY1delktf8"
      }
    },
    {
      "cell_type": "code",
      "source": [
        "from tensorflow.keras.applications import ResNet50\n",
        "from tensorflow.keras.models import Sequential\n",
        "from tensorflow.keras.layers import Flatten, Dense, Dropout, Conv2D, MaxPooling2D\n",
        "from tensorflow.keras.regularizers import l2"
      ],
      "metadata": {
        "id": "uk6sVe5Mk6vV"
      },
      "execution_count": 87,
      "outputs": []
    },
    {
      "cell_type": "code",
      "source": [
        "model_RN = ResNet50(weights='imagenet', include_top=False, input_shape=(224, 224, 3))"
      ],
      "metadata": {
        "id": "qfk9OmK3mwWe"
      },
      "execution_count": 81,
      "outputs": []
    },
    {
      "cell_type": "code",
      "source": [
        "model_RN.trainable = False"
      ],
      "metadata": {
        "id": "63z-Rwtxm3fq"
      },
      "execution_count": 82,
      "outputs": []
    },
    {
      "cell_type": "code",
      "source": [
        "model_img_1 = Sequential()\n",
        "model_img_1.add(model_RN)\n",
        "model_img_1.add(MaxPooling2D(pool_size=(2, 2)))\n",
        "model_img_1.add(Conv2D(64, kernel_size=(3, 3), activation='relu', kernel_regularizer=l2(0.01)))\n",
        "model_img_1.add(Flatten())\n",
        "model_img_1.add(Dense(512, activation='relu', kernel_regularizer=l2(0.01)))\n",
        "model_img_1.add(Dropout(0.5))\n",
        "model_img_1.add(Dense(3, activation='softmax'))"
      ],
      "metadata": {
        "id": "G-6KyXpJnAsi"
      },
      "execution_count": 88,
      "outputs": []
    },
    {
      "cell_type": "code",
      "source": [
        "model_img_1.compile(optimizer='adam', loss='categorical_crossentropy', metrics=['accuracy'])"
      ],
      "metadata": {
        "id": "SkBj0VWWnn7x"
      },
      "execution_count": 89,
      "outputs": []
    },
    {
      "cell_type": "code",
      "source": [
        "history_img_1 = model_img_1.fit(images_train, y_class_train, epochs=10, validation_data=(images_validation, y_class_validation))"
      ],
      "metadata": {
        "colab": {
          "base_uri": "https://localhost:8080/"
        },
        "id": "KwVj-xPHnyXp",
        "outputId": "2da2cba2-0db1-4bff-ee57-6a87d19ea434"
      },
      "execution_count": 90,
      "outputs": [
        {
          "output_type": "stream",
          "name": "stdout",
          "text": [
            "Epoch 1/10\n",
            "73/73 [==============================] - 16s 151ms/step - loss: 2.9727 - accuracy: 0.4432 - val_loss: 2.2291 - val_accuracy: 0.4555\n",
            "Epoch 2/10\n",
            "73/73 [==============================] - 9s 123ms/step - loss: 1.8941 - accuracy: 0.4955 - val_loss: 1.8040 - val_accuracy: 0.2542\n",
            "Epoch 3/10\n",
            "73/73 [==============================] - 9s 119ms/step - loss: 1.5484 - accuracy: 0.5183 - val_loss: 1.6132 - val_accuracy: 0.2542\n",
            "Epoch 4/10\n",
            "73/73 [==============================] - 9s 119ms/step - loss: 1.3396 - accuracy: 0.5585 - val_loss: 1.5421 - val_accuracy: 0.2542\n",
            "Epoch 5/10\n",
            "73/73 [==============================] - 9s 124ms/step - loss: 1.2267 - accuracy: 0.5839 - val_loss: 2.1311 - val_accuracy: 0.4555\n",
            "Epoch 6/10\n",
            "73/73 [==============================] - 9s 125ms/step - loss: 1.0720 - accuracy: 0.6206 - val_loss: 2.1116 - val_accuracy: 0.4555\n",
            "Epoch 7/10\n",
            "73/73 [==============================] - 9s 120ms/step - loss: 0.9798 - accuracy: 0.6396 - val_loss: 2.1683 - val_accuracy: 0.4555\n",
            "Epoch 8/10\n",
            "73/73 [==============================] - 9s 119ms/step - loss: 0.9214 - accuracy: 0.6539 - val_loss: 2.3140 - val_accuracy: 0.4555\n",
            "Epoch 9/10\n",
            "73/73 [==============================] - 9s 121ms/step - loss: 0.8452 - accuracy: 0.6672 - val_loss: 2.5389 - val_accuracy: 0.4555\n",
            "Epoch 10/10\n",
            "73/73 [==============================] - 9s 125ms/step - loss: 0.8272 - accuracy: 0.6703 - val_loss: 2.9827 - val_accuracy: 0.4555\n"
          ]
        }
      ]
    },
    {
      "cell_type": "code",
      "source": [
        "test_loss, test_accuracy = model_img_1.evaluate(images_test, y_class_test)\n",
        "print(\"Test Loss:\", test_loss)\n",
        "print(\"Test Accuracy:\", test_accuracy)"
      ],
      "metadata": {
        "colab": {
          "base_uri": "https://localhost:8080/"
        },
        "id": "3Ra_XLQ8n_Nc",
        "outputId": "d0bc64c4-529f-4e90-8677-e33316391f9d"
      },
      "execution_count": 91,
      "outputs": [
        {
          "output_type": "stream",
          "name": "stdout",
          "text": [
            "48/48 [==============================] - 5s 98ms/step - loss: 3.0228 - accuracy: 0.4559\n",
            "Test Loss: 3.0227842330932617\n",
            "Test Accuracy: 0.45591115951538086\n"
          ]
        }
      ]
    },
    {
      "cell_type": "markdown",
      "source": [
        "El modelo no esta aprendiendo de manera efectiva, tenemos mejores resultados con el modelo anterior."
      ],
      "metadata": {
        "id": "chjbupCIzOgq"
      }
    },
    {
      "cell_type": "markdown",
      "source": [
        "# Modelo clasificación datos e imágenes"
      ],
      "metadata": {
        "id": "DafBRMU3zfbM"
      }
    },
    {
      "cell_type": "markdown",
      "source": [
        "Se implementa un modelo Late Fusion combinando los modelos previamente entrenados model_class_3 para datos numéricos y model_img para imágenes.\n",
        "\n",
        "Se definen las entradas para ambos modelos input_numeric y input_image y las salidas output_numeric y output_image. Ambas salidas se fusionan utilizando la capa concatenate. Se agregan capas densas para procesar la información fusionada aplicando regularización L2 y Dropout para evitar el sobreajuste. Se utiliza el optimizador Adam y crossentropy."
      ],
      "metadata": {
        "id": "MusDHhcs-DbB"
      }
    },
    {
      "cell_type": "code",
      "source": [
        "from tensorflow.keras.models import Model\n",
        "from tensorflow.keras.layers import concatenate, Input, Dense, Dropout\n",
        "from tensorflow.keras.regularizers import l2"
      ],
      "metadata": {
        "id": "XoNPGbuA1ilP"
      },
      "execution_count": 121,
      "outputs": []
    },
    {
      "cell_type": "code",
      "source": [
        "input_numeric = Input(shape=(21,))\n",
        "input_image = Input(shape=(224, 224, 3))"
      ],
      "metadata": {
        "id": "SC8-o8-_1mqF"
      },
      "execution_count": 122,
      "outputs": []
    },
    {
      "cell_type": "code",
      "source": [
        "output_numeric = model_class_3(input_numeric)\n",
        "output_image = model_img(input_image)"
      ],
      "metadata": {
        "id": "3N7djO_91vO2"
      },
      "execution_count": 123,
      "outputs": []
    },
    {
      "cell_type": "code",
      "source": [
        "merged_output = concatenate([output_numeric, output_image])"
      ],
      "metadata": {
        "id": "VEnlIbsk177m"
      },
      "execution_count": 125,
      "outputs": []
    },
    {
      "cell_type": "code",
      "source": [
        "fusion_layer_1 = Dense(128, activation='relu', kernel_regularizer=l2(0.01))(merged_output)\n",
        "fusion_layer_1_dropout = Dropout(0.5)(fusion_layer_1)\n",
        "fusion_layer_2 = Dense(64, activation='relu', kernel_regularizer=l2(0.01))(fusion_layer_1)\n",
        "fusion_layer_1_dropout = Dropout(0.5)(fusion_layer_1)\n",
        "fusion_layer_3 = Dense(32, activation='relu', kernel_regularizer=l2(0.01))(fusion_layer_2)"
      ],
      "metadata": {
        "id": "-3uHKV2u2Nn-"
      },
      "execution_count": 126,
      "outputs": []
    },
    {
      "cell_type": "code",
      "source": [
        "output = Dense(3, activation='softmax')(fusion_layer_3)"
      ],
      "metadata": {
        "id": "JiL2P24a2QxQ"
      },
      "execution_count": 127,
      "outputs": []
    },
    {
      "cell_type": "code",
      "source": [
        "late_fusion_model = Model(inputs=[input_numeric, input_image], outputs=output)"
      ],
      "metadata": {
        "id": "Rk7--PlK2VoF"
      },
      "execution_count": 128,
      "outputs": []
    },
    {
      "cell_type": "code",
      "source": [
        "late_fusion_model.compile(optimizer='adam', loss='categorical_crossentropy', metrics=['accuracy'])"
      ],
      "metadata": {
        "id": "mZqYOts62ZLJ"
      },
      "execution_count": 129,
      "outputs": []
    },
    {
      "cell_type": "code",
      "source": [
        "history_fusion = late_fusion_model.fit([x_train_data, images_train], y_class_train, epochs=10, batch_size=32, validation_data=([x_validation_data, images_validation], y_class_validation))\n"
      ],
      "metadata": {
        "colab": {
          "base_uri": "https://localhost:8080/"
        },
        "id": "peQAsuqE2cw1",
        "outputId": "0b0716f8-12c6-4bb7-e05e-f06566345585"
      },
      "execution_count": 130,
      "outputs": [
        {
          "output_type": "stream",
          "name": "stdout",
          "text": [
            "Epoch 1/10\n",
            "73/73 [==============================] - 19s 210ms/step - loss: 1.9271 - accuracy: 0.5222 - val_loss: 1.5295 - val_accuracy: 0.5652\n",
            "Epoch 2/10\n",
            "73/73 [==============================] - 11s 154ms/step - loss: 1.2584 - accuracy: 0.5999 - val_loss: 1.1926 - val_accuracy: 0.5677\n",
            "Epoch 3/10\n",
            "73/73 [==============================] - 13s 186ms/step - loss: 1.0515 - accuracy: 0.6155 - val_loss: 1.0430 - val_accuracy: 0.5716\n",
            "Epoch 4/10\n",
            "73/73 [==============================] - 11s 156ms/step - loss: 0.9835 - accuracy: 0.6219 - val_loss: 1.0437 - val_accuracy: 0.5755\n",
            "Epoch 5/10\n",
            "73/73 [==============================] - 14s 187ms/step - loss: 0.9312 - accuracy: 0.6280 - val_loss: 1.0769 - val_accuracy: 0.5303\n",
            "Epoch 6/10\n",
            "73/73 [==============================] - 11s 157ms/step - loss: 0.9165 - accuracy: 0.6383 - val_loss: 0.9920 - val_accuracy: 0.5832\n",
            "Epoch 7/10\n",
            "73/73 [==============================] - 14s 188ms/step - loss: 0.9238 - accuracy: 0.6362 - val_loss: 0.9602 - val_accuracy: 0.6103\n",
            "Epoch 8/10\n",
            "73/73 [==============================] - 14s 189ms/step - loss: 0.9034 - accuracy: 0.6327 - val_loss: 0.9501 - val_accuracy: 0.5884\n",
            "Epoch 9/10\n",
            "73/73 [==============================] - 14s 189ms/step - loss: 0.8913 - accuracy: 0.6301 - val_loss: 0.9225 - val_accuracy: 0.6116\n",
            "Epoch 10/10\n",
            "73/73 [==============================] - 14s 190ms/step - loss: 0.8810 - accuracy: 0.6409 - val_loss: 0.9280 - val_accuracy: 0.5858\n"
          ]
        }
      ]
    },
    {
      "cell_type": "code",
      "source": [
        "test_loss, test_accuracy = late_fusion_model.evaluate([x_test_data, images_test], y_class_test)\n",
        "print(\"Test Loss:\", test_loss)\n",
        "print(\"Test Accuracy:\", test_accuracy)"
      ],
      "metadata": {
        "colab": {
          "base_uri": "https://localhost:8080/"
        },
        "id": "uDhm_Rmv2j9y",
        "outputId": "802a5845-86eb-415a-947d-10eb99ee2295"
      },
      "execution_count": 131,
      "outputs": [
        {
          "output_type": "stream",
          "name": "stdout",
          "text": [
            "48/48 [==============================] - 6s 120ms/step - loss: 0.9103 - accuracy: 0.6055\n",
            "Test Loss: 0.9102519154548645\n",
            "Test Accuracy: 0.6054866313934326\n"
          ]
        }
      ]
    },
    {
      "cell_type": "markdown",
      "source": [
        "El modelo logra una precisión buena, está generalizando adecuadamente."
      ],
      "metadata": {
        "id": "KpLKASPA3ybV"
      }
    }
  ]
}